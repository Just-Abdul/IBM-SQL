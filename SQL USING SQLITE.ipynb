{
    "cells": [
        {
            "cell_type": "code",
            "execution_count": null,
            "metadata": {},
            "outputs": [],
            "source": "# SQL USING SQLITE3 "
        },
        {
            "cell_type": "code",
            "execution_count": 6,
            "metadata": {},
            "outputs": [
                {
                    "data": {
                        "text/html": "<div>\n<style scoped>\n    .dataframe tbody tr th:only-of-type {\n        vertical-align: middle;\n    }\n\n    .dataframe tbody tr th {\n        vertical-align: top;\n    }\n\n    .dataframe thead th {\n        text-align: right;\n    }\n</style>\n<table border=\"1\" class=\"dataframe\">\n  <thead>\n    <tr style=\"text-align: right;\">\n      <th></th>\n      <th>Title</th>\n      <th>Release Year</th>\n      <th>Locations</th>\n      <th>Fun Facts</th>\n      <th>Production Company</th>\n      <th>Distributor</th>\n      <th>Director</th>\n      <th>Writer</th>\n      <th>Actor 1</th>\n      <th>Actor 2</th>\n      <th>Actor 3</th>\n    </tr>\n  </thead>\n  <tbody>\n    <tr>\n      <th>0</th>\n      <td>180</td>\n      <td>2011</td>\n      <td>555 Market St.</td>\n      <td>NaN</td>\n      <td>SPI Cinemas</td>\n      <td>NaN</td>\n      <td>Jayendra</td>\n      <td>Umarji Anuradha, Jayendra, Aarthi Sriram, &amp; Suba</td>\n      <td>Siddarth</td>\n      <td>Nithya Menon</td>\n      <td>Priya Anand</td>\n    </tr>\n    <tr>\n      <th>1</th>\n      <td>180</td>\n      <td>2011</td>\n      <td>Randall Museum</td>\n      <td>NaN</td>\n      <td>SPI Cinemas</td>\n      <td>NaN</td>\n      <td>Jayendra</td>\n      <td>Umarji Anuradha, Jayendra, Aarthi Sriram, &amp; Suba</td>\n      <td>Siddarth</td>\n      <td>Nithya Menon</td>\n      <td>Priya Anand</td>\n    </tr>\n    <tr>\n      <th>2</th>\n      <td>180</td>\n      <td>2011</td>\n      <td>City Hall</td>\n      <td>NaN</td>\n      <td>SPI Cinemas</td>\n      <td>NaN</td>\n      <td>Jayendra</td>\n      <td>Umarji Anuradha, Jayendra, Aarthi Sriram, &amp; Suba</td>\n      <td>Siddarth</td>\n      <td>Nithya Menon</td>\n      <td>Priya Anand</td>\n    </tr>\n    <tr>\n      <th>3</th>\n      <td>180</td>\n      <td>2011</td>\n      <td>Polk &amp; Larkin Streets</td>\n      <td>NaN</td>\n      <td>SPI Cinemas</td>\n      <td>NaN</td>\n      <td>Jayendra</td>\n      <td>Umarji Anuradha, Jayendra, Aarthi Sriram, &amp; Suba</td>\n      <td>Siddarth</td>\n      <td>Nithya Menon</td>\n      <td>Priya Anand</td>\n    </tr>\n    <tr>\n      <th>4</th>\n      <td>180</td>\n      <td>2011</td>\n      <td>Epic Roasthouse (399 Embarcadero)</td>\n      <td>NaN</td>\n      <td>SPI Cinemas</td>\n      <td>NaN</td>\n      <td>Jayendra</td>\n      <td>Umarji Anuradha, Jayendra, Aarthi Sriram, &amp; Suba</td>\n      <td>Siddarth</td>\n      <td>Nithya Menon</td>\n      <td>Priya Anand</td>\n    </tr>\n  </tbody>\n</table>\n</div>",
                        "text/plain": "  Title  Release Year                          Locations Fun Facts  \\\n0   180          2011                     555 Market St.       NaN   \n1   180          2011                     Randall Museum       NaN   \n2   180          2011                          City Hall       NaN   \n3   180          2011              Polk & Larkin Streets       NaN   \n4   180          2011  Epic Roasthouse (399 Embarcadero)       NaN   \n\n  Production Company Distributor  Director  \\\n0        SPI Cinemas         NaN  Jayendra   \n1        SPI Cinemas         NaN  Jayendra   \n2        SPI Cinemas         NaN  Jayendra   \n3        SPI Cinemas         NaN  Jayendra   \n4        SPI Cinemas         NaN  Jayendra   \n\n                                             Writer   Actor 1       Actor 2  \\\n0  Umarji Anuradha, Jayendra, Aarthi Sriram, & Suba  Siddarth  Nithya Menon   \n1  Umarji Anuradha, Jayendra, Aarthi Sriram, & Suba  Siddarth  Nithya Menon   \n2  Umarji Anuradha, Jayendra, Aarthi Sriram, & Suba  Siddarth  Nithya Menon   \n3  Umarji Anuradha, Jayendra, Aarthi Sriram, & Suba  Siddarth  Nithya Menon   \n4  Umarji Anuradha, Jayendra, Aarthi Sriram, & Suba  Siddarth  Nithya Menon   \n\n       Actor 3  \n0  Priya Anand  \n1  Priya Anand  \n2  Priya Anand  \n3  Priya Anand  \n4  Priya Anand  "
                    },
                    "execution_count": 6,
                    "metadata": {},
                    "output_type": "execute_result"
                }
            ],
            "source": "# The code was removed by Watson Studio for sharing."
        },
        {
            "cell_type": "code",
            "execution_count": 2,
            "metadata": {},
            "outputs": [],
            "source": "import sqlite3 #IMPORTING SQLITE"
        },
        {
            "cell_type": "code",
            "execution_count": 3,
            "metadata": {},
            "outputs": [],
            "source": "from pathlib import Path\nPath('myfirstdb.db').touch() #CREATING MY FIRST DATABASE"
        },
        {
            "cell_type": "code",
            "execution_count": 4,
            "metadata": {},
            "outputs": [],
            "source": "conn = sqlite3.connect('myfirstdb.db') #CONNECTING WITH THE DATABASE\nc = conn.cursor()"
        },
        {
            "cell_type": "code",
            "execution_count": 5,
            "metadata": {},
            "outputs": [],
            "source": "# Defining Functions\n\ndef open_db():\n    conn = sqlite3.connect(path)\n    c = conn.cursor()\n\ndef close_db():    \n    return c.close()\n    return conn.close()\n\ndef save():\n    return conn.commit()\n    \ndef run(*args):\n    return c.execute(*args)"
        },
        {
            "cell_type": "code",
            "execution_count": 8,
            "metadata": {},
            "outputs": [
                {
                    "name": "stderr",
                    "output_type": "stream",
                    "text": "/opt/conda/envs/Python-3.7-main/lib/python3.7/site-packages/pandas/core/generic.py:2663: UserWarning: The spaces in these column names will not be changed. In pandas versions < 0.14, spaces were converted to underscores.\n  method=method,\n"
                }
            ],
            "source": "# write the data to an sqlite table\n\nLA.to_sql('LA', conn, if_exists='append', index = False) # to_sql used to write dataframe to DB"
        },
        {
            "cell_type": "code",
            "execution_count": null,
            "metadata": {},
            "outputs": [],
            "source": ""
        },
        {
            "cell_type": "code",
            "execution_count": null,
            "metadata": {},
            "outputs": [],
            "source": "# SELECT statement"
        },
        {
            "cell_type": "code",
            "execution_count": null,
            "metadata": {},
            "outputs": [],
            "source": ""
        },
        {
            "cell_type": "code",
            "execution_count": 9,
            "metadata": {},
            "outputs": [],
            "source": "# Fetch all record from LA table.\n\nall_record = c.execute('''SELECT * FROM LA''').fetchall()"
        },
        {
            "cell_type": "code",
            "execution_count": null,
            "metadata": {},
            "outputs": [],
            "source": "for data in all_record:\n    print(data)"
        },
        {
            "cell_type": "code",
            "execution_count": null,
            "metadata": {},
            "outputs": [],
            "source": "# Converting the data into a dataframe "
        },
        {
            "cell_type": "code",
            "execution_count": 11,
            "metadata": {},
            "outputs": [
                {
                    "data": {
                        "text/html": "<div>\n<style scoped>\n    .dataframe tbody tr th:only-of-type {\n        vertical-align: middle;\n    }\n\n    .dataframe tbody tr th {\n        vertical-align: top;\n    }\n\n    .dataframe thead th {\n        text-align: right;\n    }\n</style>\n<table border=\"1\" class=\"dataframe\">\n  <thead>\n    <tr style=\"text-align: right;\">\n      <th></th>\n      <th>0</th>\n      <th>1</th>\n      <th>2</th>\n      <th>3</th>\n      <th>4</th>\n      <th>5</th>\n      <th>6</th>\n      <th>7</th>\n      <th>8</th>\n      <th>9</th>\n      <th>10</th>\n    </tr>\n  </thead>\n  <tbody>\n    <tr>\n      <th>0</th>\n      <td>180</td>\n      <td>2011</td>\n      <td>555 Market St.</td>\n      <td>None</td>\n      <td>SPI Cinemas</td>\n      <td>None</td>\n      <td>Jayendra</td>\n      <td>Umarji Anuradha, Jayendra, Aarthi Sriram, &amp; Suba</td>\n      <td>Siddarth</td>\n      <td>Nithya Menon</td>\n      <td>Priya Anand</td>\n    </tr>\n    <tr>\n      <th>1</th>\n      <td>180</td>\n      <td>2011</td>\n      <td>Randall Museum</td>\n      <td>None</td>\n      <td>SPI Cinemas</td>\n      <td>None</td>\n      <td>Jayendra</td>\n      <td>Umarji Anuradha, Jayendra, Aarthi Sriram, &amp; Suba</td>\n      <td>Siddarth</td>\n      <td>Nithya Menon</td>\n      <td>Priya Anand</td>\n    </tr>\n    <tr>\n      <th>2</th>\n      <td>180</td>\n      <td>2011</td>\n      <td>City Hall</td>\n      <td>None</td>\n      <td>SPI Cinemas</td>\n      <td>None</td>\n      <td>Jayendra</td>\n      <td>Umarji Anuradha, Jayendra, Aarthi Sriram, &amp; Suba</td>\n      <td>Siddarth</td>\n      <td>Nithya Menon</td>\n      <td>Priya Anand</td>\n    </tr>\n    <tr>\n      <th>3</th>\n      <td>180</td>\n      <td>2011</td>\n      <td>Polk &amp; Larkin Streets</td>\n      <td>None</td>\n      <td>SPI Cinemas</td>\n      <td>None</td>\n      <td>Jayendra</td>\n      <td>Umarji Anuradha, Jayendra, Aarthi Sriram, &amp; Suba</td>\n      <td>Siddarth</td>\n      <td>Nithya Menon</td>\n      <td>Priya Anand</td>\n    </tr>\n    <tr>\n      <th>4</th>\n      <td>180</td>\n      <td>2011</td>\n      <td>Epic Roasthouse (399 Embarcadero)</td>\n      <td>None</td>\n      <td>SPI Cinemas</td>\n      <td>None</td>\n      <td>Jayendra</td>\n      <td>Umarji Anuradha, Jayendra, Aarthi Sriram, &amp; Suba</td>\n      <td>Siddarth</td>\n      <td>Nithya Menon</td>\n      <td>Priya Anand</td>\n    </tr>\n    <tr>\n      <th>...</th>\n      <td>...</td>\n      <td>...</td>\n      <td>...</td>\n      <td>...</td>\n      <td>...</td>\n      <td>...</td>\n      <td>...</td>\n      <td>...</td>\n      <td>...</td>\n      <td>...</td>\n      <td>...</td>\n    </tr>\n    <tr>\n      <th>3409</th>\n      <td>Woman on Top</td>\n      <td>2000</td>\n      <td>312 Fillmore Street</td>\n      <td>None</td>\n      <td>Fox Searchlight Pictures</td>\n      <td>Fox Searchlight Pictures</td>\n      <td>Fina Torres</td>\n      <td>Vera Blasi</td>\n      <td>Penelope Cruz</td>\n      <td>None</td>\n      <td>None</td>\n    </tr>\n    <tr>\n      <th>3410</th>\n      <td>Yours, Mine and Ours</td>\n      <td>1968</td>\n      <td>None</td>\n      <td>None</td>\n      <td>Desilu Productions</td>\n      <td>United Artists</td>\n      <td>Melville Shavelson</td>\n      <td>Bob Carroll, Jr.</td>\n      <td>Lucille Ball</td>\n      <td>Henry Fonda</td>\n      <td>Van Johnson</td>\n    </tr>\n    <tr>\n      <th>3411</th>\n      <td>Yours, Mine and Ours</td>\n      <td>1968</td>\n      <td>None</td>\n      <td>None</td>\n      <td>Desilu Productions</td>\n      <td>United Artists</td>\n      <td>Melville Shavelson</td>\n      <td>Bob Carroll, Jr.</td>\n      <td>Lucille Ball</td>\n      <td>Henry Fonda</td>\n      <td>Van Johnson</td>\n    </tr>\n    <tr>\n      <th>3412</th>\n      <td>Zodiac</td>\n      <td>2007</td>\n      <td>SF Chronicle Building (901 Mission St)</td>\n      <td>None</td>\n      <td>Paramount Pictures</td>\n      <td>Paramount Pictures</td>\n      <td>David Fincher</td>\n      <td>James Vanderbilt</td>\n      <td>Jake Gyllenhaal</td>\n      <td>Mark Ruffalo</td>\n      <td>None</td>\n    </tr>\n    <tr>\n      <th>3413</th>\n      <td>Zodiac</td>\n      <td>2007</td>\n      <td>SF Chronicle Building (901 Mission St)</td>\n      <td>None</td>\n      <td>Paramount Pictures</td>\n      <td>Paramount Pictures</td>\n      <td>David Fincher</td>\n      <td>James Vanderbilt</td>\n      <td>Jake Gyllenhaal</td>\n      <td>Mark Ruffalo</td>\n      <td>None</td>\n    </tr>\n  </tbody>\n</table>\n<p>3414 rows \u00d7 11 columns</p>\n</div>",
                        "text/plain": "                         0     1                                       2  \\\n0                      180  2011                          555 Market St.   \n1                      180  2011                          Randall Museum   \n2                      180  2011                               City Hall   \n3                      180  2011                   Polk & Larkin Streets   \n4                      180  2011       Epic Roasthouse (399 Embarcadero)   \n...                    ...   ...                                     ...   \n3409          Woman on Top  2000                     312 Fillmore Street   \n3410  Yours, Mine and Ours  1968                                    None   \n3411  Yours, Mine and Ours  1968                                    None   \n3412                Zodiac  2007  SF Chronicle Building (901 Mission St)   \n3413                Zodiac  2007  SF Chronicle Building (901 Mission St)   \n\n         3                         4                         5  \\\n0     None               SPI Cinemas                      None   \n1     None               SPI Cinemas                      None   \n2     None               SPI Cinemas                      None   \n3     None               SPI Cinemas                      None   \n4     None               SPI Cinemas                      None   \n...    ...                       ...                       ...   \n3409  None  Fox Searchlight Pictures  Fox Searchlight Pictures   \n3410  None        Desilu Productions            United Artists   \n3411  None        Desilu Productions            United Artists   \n3412  None        Paramount Pictures        Paramount Pictures   \n3413  None        Paramount Pictures        Paramount Pictures   \n\n                       6                                                 7  \\\n0               Jayendra  Umarji Anuradha, Jayendra, Aarthi Sriram, & Suba   \n1               Jayendra  Umarji Anuradha, Jayendra, Aarthi Sriram, & Suba   \n2               Jayendra  Umarji Anuradha, Jayendra, Aarthi Sriram, & Suba   \n3               Jayendra  Umarji Anuradha, Jayendra, Aarthi Sriram, & Suba   \n4               Jayendra  Umarji Anuradha, Jayendra, Aarthi Sriram, & Suba   \n...                  ...                                               ...   \n3409         Fina Torres                                        Vera Blasi   \n3410  Melville Shavelson                                  Bob Carroll, Jr.   \n3411  Melville Shavelson                                  Bob Carroll, Jr.   \n3412       David Fincher                                  James Vanderbilt   \n3413       David Fincher                                  James Vanderbilt   \n\n                    8             9           10  \n0            Siddarth  Nithya Menon  Priya Anand  \n1            Siddarth  Nithya Menon  Priya Anand  \n2            Siddarth  Nithya Menon  Priya Anand  \n3            Siddarth  Nithya Menon  Priya Anand  \n4            Siddarth  Nithya Menon  Priya Anand  \n...               ...           ...          ...  \n3409    Penelope Cruz          None         None  \n3410     Lucille Ball   Henry Fonda  Van Johnson  \n3411     Lucille Ball   Henry Fonda  Van Johnson  \n3412  Jake Gyllenhaal  Mark Ruffalo         None  \n3413  Jake Gyllenhaal  Mark Ruffalo         None  \n\n[3414 rows x 11 columns]"
                    },
                    "execution_count": 11,
                    "metadata": {},
                    "output_type": "execute_result"
                }
            ],
            "source": "table = pd.DataFrame(all_record) # A dataframe output\ntable"
        },
        {
            "cell_type": "code",
            "execution_count": 12,
            "metadata": {},
            "outputs": [],
            "source": "save() #Saves changes to the database using the user-defined function"
        },
        {
            "cell_type": "code",
            "execution_count": null,
            "metadata": {},
            "outputs": [],
            "source": ""
        },
        {
            "cell_type": "code",
            "execution_count": 13,
            "metadata": {},
            "outputs": [
                {
                    "data": {
                        "text/plain": "<sqlite3.Cursor at 0x7fedf894c3b0>"
                    },
                    "execution_count": 13,
                    "metadata": {},
                    "output_type": "execute_result"
                }
            ],
            "source": "c.execute('''ALTER TABLE LA RENAME COLUMN `Actor 1` TO MainActor''') # Renaming the column name."
        },
        {
            "cell_type": "code",
            "execution_count": 14,
            "metadata": {},
            "outputs": [],
            "source": "some_record = run('''SELECT Title, Locations, `Actor 2` FROM LA LIMIT 10''') # PUTTING VALUES CONTAINING SPACE INTO (``) MAKES THE QUERY EXECUTABLE."
        },
        {
            "cell_type": "code",
            "execution_count": 15,
            "metadata": {
                "scrolled": true
            },
            "outputs": [
                {
                    "name": "stdout",
                    "output_type": "stream",
                    "text": "('180', '555 Market St.', 'Nithya Menon')\n('180', 'Randall Museum', 'Nithya Menon')\n('180', 'City Hall', 'Nithya Menon')\n('180', 'Polk & Larkin Streets', 'Nithya Menon')\n('180', 'Epic Roasthouse (399 Embarcadero)', 'Nithya Menon')\n('180', 'Justin Herman Plaza', 'Nithya Menon')\n('180', '200 block Market Street', 'Nithya Menon')\n('180', 'Mason & California Streets (Nob Hill)', 'Nithya Menon')\n('180', 'Epic Roasthouse (399 Embarcadero)', 'Nithya Menon')\n('180', 'Mason & California Streets (Nob Hill)', 'Nithya Menon')\n"
                }
            ],
            "source": "for item in some_record:\n    print(item)"
        },
        {
            "cell_type": "code",
            "execution_count": 27,
            "metadata": {},
            "outputs": [
                {
                    "name": "stdout",
                    "output_type": "stream",
                    "text": "(0, 'Title', 'TEXT', 0, None, 0)\n(1, 'Release Year', 'INTEGER', 0, None, 0)\n(2, 'Locations', 'TEXT', 0, None, 0)\n(3, 'Fun Facts', 'TEXT', 0, None, 0)\n(4, 'Production Company', 'TEXT', 0, None, 0)\n(5, 'Distributor', 'TEXT', 0, None, 0)\n(6, 'Director', 'TEXT', 0, None, 0)\n(7, 'Writer', 'TEXT', 0, None, 0)\n(8, 'MainActor', 'TEXT', 0, None, 0)\n(9, 'Actor 2', 'TEXT', 0, None, 0)\n(10, 'Actor 3', 'TEXT', 0, None, 0)\n"
                }
            ],
            "source": "Schema = c.execute(''' PRAGMA table_info(\"LA\")''') # Schema of the Table using PRAGMA\n\nfor obj in Schema:\n    print (obj) # To print out the column names only *obj[1]* should be used "
        },
        {
            "cell_type": "code",
            "execution_count": 16,
            "metadata": {},
            "outputs": [],
            "source": "title_release = c.execute('''SELECT Title, `Release Year` FROM LA''').fetchone() #Fetchone fetches one item from the table"
        },
        {
            "cell_type": "code",
            "execution_count": 17,
            "metadata": {},
            "outputs": [
                {
                    "name": "stdout",
                    "output_type": "stream",
                    "text": "('SPI Cinemas', None)\n('SPI Cinemas', None)\n('SPI Cinemas', None)\n('SPI Cinemas', None)\n('SPI Cinemas', None)\n('SPI Cinemas', None)\n('SPI Cinemas', None)\n('SPI Cinemas', None)\n('SPI Cinemas', None)\n('SPI Cinemas', None)\n('SPI Cinemas', None)\n('SPI Cinemas', None)\n('SPI Cinemas', None)\n('SPI Cinemas', None)\n('SPI Cinemas', None)\n('SPI Cinemas', None)\n('Yerba Buena Productions', None)\n('Yerba Buena Productions', None)\n('Miramax Films', 'Francis Ford Coppola allegedly wrote large portions of \"The Godfather\" trilogy in Caf\u00e9 Trieste.')\n('Miramax Films', 'Established in 1867, Buena Vista Park is the oldest official park in San Francisco.')\n"
                }
            ],
            "source": "fun_Prod = c.execute('''SELECT `Production Company`, `Fun Facts` FROM LA''').fetchmany(20) #Fetchmany is used to retrieve more than one item, and the number of items needed can be specified, in this case (20)\n\nfor obj in fun_Prod:\n    print (obj)"
        },
        {
            "cell_type": "code",
            "execution_count": 18,
            "metadata": {},
            "outputs": [],
            "source": "Write_Act = run('''SELECT Writer, `Actor 2` FROM LA LIMIT 20''')  #LIMITS THE NUMBER OF OUTPUT TO 20"
        },
        {
            "cell_type": "code",
            "execution_count": 19,
            "metadata": {},
            "outputs": [
                {
                    "name": "stdout",
                    "output_type": "stream",
                    "text": "('Umarji Anuradha, Jayendra, Aarthi Sriram, & Suba', 'Nithya Menon')\n('Umarji Anuradha, Jayendra, Aarthi Sriram, & Suba', 'Nithya Menon')\n('Umarji Anuradha, Jayendra, Aarthi Sriram, & Suba', 'Nithya Menon')\n('Umarji Anuradha, Jayendra, Aarthi Sriram, & Suba', 'Nithya Menon')\n('Umarji Anuradha, Jayendra, Aarthi Sriram, & Suba', 'Nithya Menon')\n('Umarji Anuradha, Jayendra, Aarthi Sriram, & Suba', 'Nithya Menon')\n('Umarji Anuradha, Jayendra, Aarthi Sriram, & Suba', 'Nithya Menon')\n('Umarji Anuradha, Jayendra, Aarthi Sriram, & Suba', 'Nithya Menon')\n('Umarji Anuradha, Jayendra, Aarthi Sriram, & Suba ', 'Nithya Menon')\n('Umarji Anuradha, Jayendra, Aarthi Sriram, & Suba ', 'Nithya Menon')\n('Umarji Anuradha, Jayendra, Aarthi Sriram, & Suba ', 'Nithya Menon')\n('Umarji Anuradha, Jayendra, Aarthi Sriram, & Suba ', 'Nithya Menon')\n('Umarji Anuradha, Jayendra, Aarthi Sriram, & Suba ', 'Nithya Menon')\n('Umarji Anuradha, Jayendra, Aarthi Sriram, & Suba ', 'Nithya Menon')\n('Umarji Anuradha, Jayendra, Aarthi Sriram, & Suba ', 'Nithya Menon')\n('Umarji Anuradha, Jayendra, Aarthi Sriram, & Suba ', 'Nithya Menon')\n(None, None)\n(None, None)\n('Robert Perez', 'Shaynnyn Sossamon')\n('Robert Perez', 'Shaynnyn Sossamon')\n"
                }
            ],
            "source": "for obj in Write_Act:\n    print (obj)"
        },
        {
            "cell_type": "code",
            "execution_count": null,
            "metadata": {},
            "outputs": [],
            "source": ""
        },
        {
            "cell_type": "markdown",
            "metadata": {},
            "source": "# COUNT, DISTINCT, LIMIT statements"
        },
        {
            "cell_type": "code",
            "execution_count": null,
            "metadata": {},
            "outputs": [],
            "source": ""
        },
        {
            "cell_type": "code",
            "execution_count": 20,
            "metadata": {},
            "outputs": [
                {
                    "name": "stdout",
                    "output_type": "stream",
                    "text": "(3414,)\n"
                }
            ],
            "source": "count = run(''' SELECT COUNT (*) FROM LA''') # Counts all the rows in the table\nfor item in count:\n    print (item)"
        },
        {
            "cell_type": "code",
            "execution_count": 24,
            "metadata": {},
            "outputs": [
                {
                    "name": "stdout",
                    "output_type": "stream",
                    "text": "(48,)\n"
                }
            ],
            "source": "# The number of locations of the films which are written by James Cameron.\n\nJC_Count = run('''SELECT COUNT (Locations) FROM LA WHERE Writer = 'James Cameron' ''')\nfor item in JC_Count:\n    print (item)"
        },
        {
            "cell_type": "code",
            "execution_count": 25,
            "metadata": {},
            "outputs": [
                {
                    "name": "stdout",
                    "output_type": "stream",
                    "text": "(1,)\n"
                }
            ],
            "source": "# The number of films shot at Russian Hill.\n\nRH_Count = c.execute('''SELECT COUNT (*) FROM LA WHERE  Locations = 'Russian Hill' ''')\nfor item in RH_Count:\n    print (item)"
        },
        {
            "cell_type": "markdown",
            "metadata": {},
            "source": "# DISTINCT statement"
        },
        {
            "cell_type": "code",
            "execution_count": null,
            "metadata": {},
            "outputs": [],
            "source": "# Name of all films without any repeated titles.\n\nTitles_ = run('''SELECT DISTINCT (Title) FROM LA''').fetchall()\nfor item in Titles_:\n    print (item)"
        },
        {
            "cell_type": "code",
            "execution_count": 33,
            "metadata": {},
            "outputs": [
                {
                    "data": {
                        "text/html": "<div>\n<style scoped>\n    .dataframe tbody tr th:only-of-type {\n        vertical-align: middle;\n    }\n\n    .dataframe tbody tr th {\n        vertical-align: top;\n    }\n\n    .dataframe thead th {\n        text-align: right;\n    }\n</style>\n<table border=\"1\" class=\"dataframe\">\n  <thead>\n    <tr style=\"text-align: right;\">\n      <th></th>\n      <th>0</th>\n    </tr>\n  </thead>\n  <tbody>\n    <tr>\n      <th>0</th>\n      <td>180</td>\n    </tr>\n    <tr>\n      <th>1</th>\n      <td>24 Hours on Craigslist</td>\n    </tr>\n    <tr>\n      <th>2</th>\n      <td>40 Days and 40 Nights</td>\n    </tr>\n    <tr>\n      <th>3</th>\n      <td>48 Hours</td>\n    </tr>\n    <tr>\n      <th>4</th>\n      <td>50 First Dates</td>\n    </tr>\n    <tr>\n      <th>...</th>\n      <td>...</td>\n    </tr>\n    <tr>\n      <th>311</th>\n      <td>When We Rise</td>\n    </tr>\n    <tr>\n      <th>312</th>\n      <td>Woman on the Run</td>\n    </tr>\n    <tr>\n      <th>313</th>\n      <td>Woman on Top</td>\n    </tr>\n    <tr>\n      <th>314</th>\n      <td>Yours, Mine and Ours</td>\n    </tr>\n    <tr>\n      <th>315</th>\n      <td>Zodiac</td>\n    </tr>\n  </tbody>\n</table>\n<p>316 rows \u00d7 1 columns</p>\n</div>",
                        "text/plain": "                          0\n0                       180\n1    24 Hours on Craigslist\n2     40 Days and 40 Nights\n3                  48 Hours\n4            50 First Dates\n..                      ...\n311            When We Rise\n312        Woman on the Run\n313            Woman on Top\n314    Yours, Mine and Ours\n315                  Zodiac\n\n[316 rows x 1 columns]"
                    },
                    "execution_count": 33,
                    "metadata": {},
                    "output_type": "execute_result"
                }
            ],
            "source": "T_itles = pd.DataFrame(Titles_)\nT_itles"
        },
        {
            "cell_type": "code",
            "execution_count": 37,
            "metadata": {
                "scrolled": false
            },
            "outputs": [],
            "source": "# The name of all unique films released in the 21st century and onwards, along with their release years\n\nUnique_films = run('''SELECT DISTINCT (Title), `Release Year` FROM LA WHERE `Release Year` >2000 ''').fetchall()"
        },
        {
            "cell_type": "code",
            "execution_count": 38,
            "metadata": {
                "scrolled": true
            },
            "outputs": [
                {
                    "data": {
                        "text/html": "<div>\n<style scoped>\n    .dataframe tbody tr th:only-of-type {\n        vertical-align: middle;\n    }\n\n    .dataframe tbody tr th {\n        vertical-align: top;\n    }\n\n    .dataframe thead th {\n        text-align: right;\n    }\n</style>\n<table border=\"1\" class=\"dataframe\">\n  <thead>\n    <tr style=\"text-align: right;\">\n      <th></th>\n      <th>0</th>\n      <th>1</th>\n    </tr>\n  </thead>\n  <tbody>\n    <tr>\n      <th>0</th>\n      <td>180</td>\n      <td>2011</td>\n    </tr>\n    <tr>\n      <th>1</th>\n      <td>24 Hours on Craigslist</td>\n      <td>2005</td>\n    </tr>\n    <tr>\n      <th>2</th>\n      <td>40 Days and 40 Nights</td>\n      <td>2002</td>\n    </tr>\n    <tr>\n      <th>3</th>\n      <td>50 First Dates</td>\n      <td>2004</td>\n    </tr>\n    <tr>\n      <th>4</th>\n      <td>About a Boy</td>\n      <td>2014</td>\n    </tr>\n    <tr>\n      <th>...</th>\n      <td>...</td>\n      <td>...</td>\n    </tr>\n    <tr>\n      <th>119</th>\n      <td>Under the Tuscan Sun</td>\n      <td>2003</td>\n    </tr>\n    <tr>\n      <th>120</th>\n      <td>Venom</td>\n      <td>2018</td>\n    </tr>\n    <tr>\n      <th>121</th>\n      <td>What the Bleep Do We Know</td>\n      <td>2004</td>\n    </tr>\n    <tr>\n      <th>122</th>\n      <td>When We Rise</td>\n      <td>2017</td>\n    </tr>\n    <tr>\n      <th>123</th>\n      <td>Zodiac</td>\n      <td>2007</td>\n    </tr>\n  </tbody>\n</table>\n<p>124 rows \u00d7 2 columns</p>\n</div>",
                        "text/plain": "                             0     1\n0                          180  2011\n1       24 Hours on Craigslist  2005\n2        40 Days and 40 Nights  2002\n3               50 First Dates  2004\n4                  About a Boy  2014\n..                         ...   ...\n119       Under the Tuscan Sun  2003\n120                      Venom  2018\n121  What the Bleep Do We Know  2004\n122               When We Rise  2017\n123                     Zodiac  2007\n\n[124 rows x 2 columns]"
                    },
                    "execution_count": 38,
                    "metadata": {},
                    "output_type": "execute_result"
                }
            ],
            "source": "U_films = pd.DataFrame(Unique_films)\nU_films"
        },
        {
            "cell_type": "code",
            "execution_count": 68,
            "metadata": {},
            "outputs": [],
            "source": "# The first 15 rows from the table starting from row 44\n\nrow_44 = c.execute('''SELECT * FROM LA LIMIT 15 OFFSET 44''').fetchall()\n"
        },
        {
            "cell_type": "code",
            "execution_count": 69,
            "metadata": {
                "scrolled": true
            },
            "outputs": [
                {
                    "data": {
                        "text/html": "<div>\n<style scoped>\n    .dataframe tbody tr th:only-of-type {\n        vertical-align: middle;\n    }\n\n    .dataframe tbody tr th {\n        vertical-align: top;\n    }\n\n    .dataframe thead th {\n        text-align: right;\n    }\n</style>\n<table border=\"1\" class=\"dataframe\">\n  <thead>\n    <tr style=\"text-align: right;\">\n      <th></th>\n      <th>0</th>\n      <th>1</th>\n      <th>2</th>\n      <th>3</th>\n      <th>4</th>\n      <th>5</th>\n      <th>6</th>\n      <th>7</th>\n      <th>8</th>\n      <th>9</th>\n      <th>10</th>\n    </tr>\n  </thead>\n  <tbody>\n    <tr>\n      <th>0</th>\n      <td>A Jitney Elopement</td>\n      <td>1915</td>\n      <td>20th and Folsom Streets</td>\n      <td>None</td>\n      <td>The Essanay Film Manufacturing Company</td>\n      <td>General Film Company</td>\n      <td>Charles Chaplin</td>\n      <td>Charles Chaplin</td>\n      <td>Charles Chaplin</td>\n      <td>Edna Purviance</td>\n      <td>None</td>\n    </tr>\n    <tr>\n      <th>1</th>\n      <td>A Jitney Elopement</td>\n      <td>1915</td>\n      <td>Golden Gate Park</td>\n      <td>During San Francisco's Gold Rush era, the Park...</td>\n      <td>The Essanay Film Manufacturing Company</td>\n      <td>General Film Company</td>\n      <td>Charles Chaplin</td>\n      <td>Charles Chaplin</td>\n      <td>Charles Chaplin</td>\n      <td>Edna Purviance</td>\n      <td>None</td>\n    </tr>\n    <tr>\n      <th>2</th>\n      <td>A Jitney Elopement</td>\n      <td>1915</td>\n      <td>Golden Gate Park</td>\n      <td>During San Francisco's Gold Rush era, the Park...</td>\n      <td>The Essanay Film Manufacturing Company</td>\n      <td>General Film Company</td>\n      <td>Charles Chaplin</td>\n      <td>Charles Chaplin</td>\n      <td>Charles Chaplin</td>\n      <td>Edna Purviance</td>\n      <td>None</td>\n    </tr>\n    <tr>\n      <th>3</th>\n      <td>A Jitney Elopement</td>\n      <td>1915</td>\n      <td>20th and Folsom Streets</td>\n      <td>None</td>\n      <td>The Essanay Film Manufacturing Company</td>\n      <td>General Film Company</td>\n      <td>Charles Chaplin</td>\n      <td>Charles Chaplin</td>\n      <td>Charles Chaplin</td>\n      <td>Edna Purviance</td>\n      <td>None</td>\n    </tr>\n    <tr>\n      <th>4</th>\n      <td>Alcatraz</td>\n      <td>2012</td>\n      <td>Chestnut St. from Larkin to Columbus</td>\n      <td>None</td>\n      <td>Bonanza Productions Inc.</td>\n      <td>Warner Bros. Television</td>\n      <td>J.J. Abrams</td>\n      <td>Steven Lilien</td>\n      <td>Sarah Jones</td>\n      <td>Jorge Garcia</td>\n      <td>None</td>\n    </tr>\n    <tr>\n      <th>5</th>\n      <td>Alcatraz</td>\n      <td>2012</td>\n      <td>Taylor St. from Broadway to Filbert</td>\n      <td>None</td>\n      <td>Bonanza Productions Inc.</td>\n      <td>Warner Bros. Television</td>\n      <td>J.J. Abrams</td>\n      <td>Steven Lilien</td>\n      <td>Sarah Jones</td>\n      <td>Jorge Garcia</td>\n      <td>None</td>\n    </tr>\n    <tr>\n      <th>6</th>\n      <td>Alcatraz</td>\n      <td>2012</td>\n      <td>Francisco St from Larkin to Polk</td>\n      <td>None</td>\n      <td>Bonanza Productions Inc.</td>\n      <td>Warner Bros. Television</td>\n      <td>J.J. Abrams</td>\n      <td>Steven Lilien</td>\n      <td>Sarah Jones</td>\n      <td>Jorge Garcia</td>\n      <td>None</td>\n    </tr>\n    <tr>\n      <th>7</th>\n      <td>Alcatraz</td>\n      <td>2012</td>\n      <td>Broadway from Mason to Taylor</td>\n      <td>None</td>\n      <td>Bonanza Productions Inc.</td>\n      <td>Warner Bros. Television</td>\n      <td>J.J. Abrams</td>\n      <td>Steven Lilien</td>\n      <td>Sarah Jones</td>\n      <td>Jorge Garcia</td>\n      <td>None</td>\n    </tr>\n    <tr>\n      <th>8</th>\n      <td>Alcatraz</td>\n      <td>2012</td>\n      <td>Leavenworth from Filbert &amp; Francisco St</td>\n      <td>None</td>\n      <td>Bonanza Productions Inc.</td>\n      <td>Warner Bros. Television</td>\n      <td>J.J. Abrams</td>\n      <td>Steven Lilien</td>\n      <td>Sarah Jones</td>\n      <td>Jorge Garcia</td>\n      <td>None</td>\n    </tr>\n    <tr>\n      <th>9</th>\n      <td>Alcatraz</td>\n      <td>2012</td>\n      <td>Filbert St. from Jones to Mason</td>\n      <td>None</td>\n      <td>Bonanza Productions Inc.</td>\n      <td>Warner Bros. Television</td>\n      <td>J.J. Abrams</td>\n      <td>Steven Lilien</td>\n      <td>Sarah Jones</td>\n      <td>Jorge Garcia</td>\n      <td>None</td>\n    </tr>\n    <tr>\n      <th>10</th>\n      <td>Alcatraz</td>\n      <td>2012</td>\n      <td>Filbert St. from Jones to Mason</td>\n      <td>None</td>\n      <td>Bonanza Productions Inc.</td>\n      <td>Warner Bros. Television</td>\n      <td>J.J. Abrams</td>\n      <td>Steven Lilien</td>\n      <td>Sarah Jones</td>\n      <td>Jorge Garcia</td>\n      <td>None</td>\n    </tr>\n    <tr>\n      <th>11</th>\n      <td>Alcatraz</td>\n      <td>2012</td>\n      <td>Leavenworth from Filbert &amp; Francisco St</td>\n      <td>None</td>\n      <td>Bonanza Productions Inc.</td>\n      <td>Warner Bros. Television</td>\n      <td>J.J. Abrams</td>\n      <td>Steven Lilien</td>\n      <td>Sarah Jones</td>\n      <td>Jorge Garcia</td>\n      <td>None</td>\n    </tr>\n    <tr>\n      <th>12</th>\n      <td>Alcatraz</td>\n      <td>2012</td>\n      <td>Broadway from Mason to Taylor</td>\n      <td>None</td>\n      <td>Bonanza Productions Inc.</td>\n      <td>Warner Bros. Television</td>\n      <td>J.J. Abrams</td>\n      <td>Steven Lilien</td>\n      <td>Sarah Jones</td>\n      <td>Jorge Garcia</td>\n      <td>None</td>\n    </tr>\n    <tr>\n      <th>13</th>\n      <td>Alcatraz</td>\n      <td>2012</td>\n      <td>Francisco St from Larkin to Polk</td>\n      <td>None</td>\n      <td>Bonanza Productions Inc.</td>\n      <td>Warner Bros. Television</td>\n      <td>J.J. Abrams</td>\n      <td>Steven Lilien</td>\n      <td>Sarah Jones</td>\n      <td>Jorge Garcia</td>\n      <td>None</td>\n    </tr>\n    <tr>\n      <th>14</th>\n      <td>Alcatraz</td>\n      <td>2012</td>\n      <td>Taylor St. from Broadway to Filbert</td>\n      <td>None</td>\n      <td>Bonanza Productions Inc.</td>\n      <td>Warner Bros. Television</td>\n      <td>J.J. Abrams</td>\n      <td>Steven Lilien</td>\n      <td>Sarah Jones</td>\n      <td>Jorge Garcia</td>\n      <td>None</td>\n    </tr>\n  </tbody>\n</table>\n</div>",
                        "text/plain": "                     0     1                                        2  \\\n0   A Jitney Elopement  1915                  20th and Folsom Streets   \n1   A Jitney Elopement  1915                         Golden Gate Park   \n2   A Jitney Elopement  1915                         Golden Gate Park   \n3   A Jitney Elopement  1915                  20th and Folsom Streets   \n4             Alcatraz  2012     Chestnut St. from Larkin to Columbus   \n5             Alcatraz  2012      Taylor St. from Broadway to Filbert   \n6             Alcatraz  2012         Francisco St from Larkin to Polk   \n7             Alcatraz  2012            Broadway from Mason to Taylor   \n8             Alcatraz  2012  Leavenworth from Filbert & Francisco St   \n9             Alcatraz  2012          Filbert St. from Jones to Mason   \n10            Alcatraz  2012          Filbert St. from Jones to Mason   \n11            Alcatraz  2012  Leavenworth from Filbert & Francisco St   \n12            Alcatraz  2012            Broadway from Mason to Taylor   \n13            Alcatraz  2012         Francisco St from Larkin to Polk   \n14            Alcatraz  2012      Taylor St. from Broadway to Filbert   \n\n                                                    3  \\\n0                                                None   \n1   During San Francisco's Gold Rush era, the Park...   \n2   During San Francisco's Gold Rush era, the Park...   \n3                                                None   \n4                                                None   \n5                                                None   \n6                                                None   \n7                                                None   \n8                                                None   \n9                                                None   \n10                                               None   \n11                                               None   \n12                                               None   \n13                                               None   \n14                                               None   \n\n                                         4                        5  \\\n0   The Essanay Film Manufacturing Company     General Film Company   \n1   The Essanay Film Manufacturing Company     General Film Company   \n2   The Essanay Film Manufacturing Company     General Film Company   \n3   The Essanay Film Manufacturing Company     General Film Company   \n4                 Bonanza Productions Inc.  Warner Bros. Television   \n5                 Bonanza Productions Inc.  Warner Bros. Television   \n6                 Bonanza Productions Inc.  Warner Bros. Television   \n7                 Bonanza Productions Inc.  Warner Bros. Television   \n8                 Bonanza Productions Inc.  Warner Bros. Television   \n9                 Bonanza Productions Inc.  Warner Bros. Television   \n10                Bonanza Productions Inc.  Warner Bros. Television   \n11                Bonanza Productions Inc.  Warner Bros. Television   \n12                Bonanza Productions Inc.  Warner Bros. Television   \n13                Bonanza Productions Inc.  Warner Bros. Television   \n14                Bonanza Productions Inc.  Warner Bros. Television   \n\n                  6                7                8               9    10  \n0   Charles Chaplin  Charles Chaplin  Charles Chaplin  Edna Purviance  None  \n1   Charles Chaplin  Charles Chaplin  Charles Chaplin  Edna Purviance  None  \n2   Charles Chaplin  Charles Chaplin  Charles Chaplin  Edna Purviance  None  \n3   Charles Chaplin  Charles Chaplin  Charles Chaplin  Edna Purviance  None  \n4       J.J. Abrams    Steven Lilien      Sarah Jones    Jorge Garcia  None  \n5       J.J. Abrams    Steven Lilien      Sarah Jones    Jorge Garcia  None  \n6       J.J. Abrams    Steven Lilien      Sarah Jones    Jorge Garcia  None  \n7       J.J. Abrams    Steven Lilien      Sarah Jones    Jorge Garcia  None  \n8       J.J. Abrams    Steven Lilien      Sarah Jones    Jorge Garcia  None  \n9       J.J. Abrams    Steven Lilien      Sarah Jones    Jorge Garcia  None  \n10      J.J. Abrams    Steven Lilien      Sarah Jones    Jorge Garcia  None  \n11      J.J. Abrams    Steven Lilien      Sarah Jones    Jorge Garcia  None  \n12      J.J. Abrams    Steven Lilien      Sarah Jones    Jorge Garcia  None  \n13      J.J. Abrams    Steven Lilien      Sarah Jones    Jorge Garcia  None  \n14      J.J. Abrams    Steven Lilien      Sarah Jones    Jorge Garcia  None  "
                    },
                    "execution_count": 69,
                    "metadata": {},
                    "output_type": "execute_result"
                }
            ],
            "source": "_row44 = pd.DataFrame(row_44)\n_row44"
        },
        {
            "cell_type": "code",
            "execution_count": 70,
            "metadata": {},
            "outputs": [],
            "source": "save()"
        },
        {
            "cell_type": "markdown",
            "metadata": {},
            "source": "# INSERT, UPDATE AND DELETE Statement"
        },
        {
            "cell_type": "code",
            "execution_count": 71,
            "metadata": {},
            "outputs": [
                {
                    "data": {
                        "text/plain": "<sqlite3.Cursor at 0x7fedf894c3b0>"
                    },
                    "execution_count": 71,
                    "metadata": {},
                    "output_type": "execute_result"
                }
            ],
            "source": "c.execute('''CREATE TABLE INFO (ID REAL, NAME TEXT, EMAIL TEXT, CITY TEXT, COUNTRY TEXT)''') #Creating an empty table called INFO"
        },
        {
            "cell_type": "code",
            "execution_count": 77,
            "metadata": {},
            "outputs": [
                {
                    "data": {
                        "text/plain": "<sqlite3.Cursor at 0x7fedf894c3b0>"
                    },
                    "execution_count": 77,
                    "metadata": {},
                    "output_type": "execute_result"
                }
            ],
            "source": "# Populating the table\n\nrun(''' INSERT INTO INFO (ID, NAME, EMAIL, CITY, COUNTRY) VALUES \n                (11, 'BAYL', '`AAA@GMAIL.COM`', 'CALGARY', 'CANADA'),\n                (22, 'JOSH', '`BBB@GMAIL.COM`', 'BURNABY', 'CANADA'),\n                (33, 'WATZ', '`CCC@GMAIL.COM`', 'WATERLOO', 'CANADA')\n    ''')"
        },
        {
            "cell_type": "code",
            "execution_count": 78,
            "metadata": {},
            "outputs": [
                {
                    "name": "stdout",
                    "output_type": "stream",
                    "text": "(0, 'ID', 'REAL', 0, None, 0)\n(1, 'NAME', 'TEXT', 0, None, 0)\n(2, 'EMAIL', 'TEXT', 0, None, 0)\n(3, 'CITY', 'TEXT', 0, None, 0)\n(4, 'COUNTRY', 'TEXT', 0, None, 0)\n"
                }
            ],
            "source": "Schema = c.execute(''' PRAGMA table_info(\"INFO\")''')\n\nfor obj in Schema:\n    print (obj)"
        },
        {
            "cell_type": "code",
            "execution_count": 90,
            "metadata": {},
            "outputs": [
                {
                    "name": "stdout",
                    "output_type": "stream",
                    "text": "(22.0, 'JOSH', 'BBB@GMAIL.COM', 'BURNABY', 'CANADA')\n(33.0, 'WATZ', 'CCC@GMAIL.COM', 'WATERLOO', 'CANADA')\n(44.0, 'BAYL', 'DDD@GMAIL.COM', 'CALGARY', 'CANADA')\n"
                }
            ],
            "source": "INFO = run (''' SELECT * FROM INFO''') #Reading the table\nfor item in INFO:\n    print (item)"
        },
        {
            "cell_type": "code",
            "execution_count": 83,
            "metadata": {
                "scrolled": true
            },
            "outputs": [
                {
                    "data": {
                        "text/plain": "<sqlite3.Cursor at 0x7fedf894c3b0>"
                    },
                    "execution_count": 83,
                    "metadata": {},
                    "output_type": "execute_result"
                }
            ],
            "source": "run (''' UPDATE INFO SET NAME = \"JOHN\" WHERE ID = 11.0''') # Updating the table, Syntax= {UPDATE table_name SET column_name WHERE condition}"
        },
        {
            "cell_type": "code",
            "execution_count": 91,
            "metadata": {},
            "outputs": [
                {
                    "name": "stdout",
                    "output_type": "stream",
                    "text": "(22.0, 'JOSH', 'BBB@GMAIL.COM', 'BURNABY', 'CANADA')\n(33.0, 'WATZ', 'CCC@GMAIL.COM', 'WATERLOO', 'CANADA')\n(44.0, 'BAYL', 'DDD@GMAIL.COM', 'CALGARY', 'CANADA')\n"
                }
            ],
            "source": "INFO = run (''' SELECT * FROM INFO''')\nfor item in INFO:\n    print (item)"
        },
        {
            "cell_type": "code",
            "execution_count": 85,
            "metadata": {},
            "outputs": [
                {
                    "data": {
                        "text/plain": "<sqlite3.Cursor at 0x7fedf894c3b0>"
                    },
                    "execution_count": 85,
                    "metadata": {},
                    "output_type": "execute_result"
                }
            ],
            "source": "# Populating table\n\nrun(''' INSERT INTO INFO (ID, NAME, EMAIL, CITY, COUNTRY) VALUES \n                (44, 'BAYL', 'DDD@GMAIL.COM', 'CALGARY', 'CANADA')\n                \n    ''')"
        },
        {
            "cell_type": "code",
            "execution_count": 86,
            "metadata": {},
            "outputs": [
                {
                    "data": {
                        "text/plain": "<sqlite3.Cursor at 0x7fedf894c3b0>"
                    },
                    "execution_count": 86,
                    "metadata": {},
                    "output_type": "execute_result"
                }
            ],
            "source": "c.execute (''' DELETE FROM INFO WHERE ID=11.0''')"
        },
        {
            "cell_type": "code",
            "execution_count": 92,
            "metadata": {
                "scrolled": true
            },
            "outputs": [
                {
                    "name": "stdout",
                    "output_type": "stream",
                    "text": "(22.0, 'JOSH', 'BBB@GMAIL.COM', 'BURNABY', 'CANADA')\n(33.0, 'WATZ', 'CCC@GMAIL.COM', 'WATERLOO', 'CANADA')\n(44.0, 'BAYL', 'DDD@GMAIL.COM', 'CALGARY', 'CANADA')\n"
                }
            ],
            "source": "INFO = run (''' SELECT * FROM INFO''')\nfor item in INFO:\n    print (item)"
        }
    ],
    "metadata": {
        "kernelspec": {
            "display_name": "Python 3.7",
            "language": "python",
            "name": "python3"
        },
        "language_info": {
            "codemirror_mode": {
                "name": "ipython",
                "version": 3
            },
            "file_extension": ".py",
            "mimetype": "text/x-python",
            "name": "python",
            "nbconvert_exporter": "python",
            "pygments_lexer": "ipython3",
            "version": "3.7.10"
        }
    },
    "nbformat": 4,
    "nbformat_minor": 1
}