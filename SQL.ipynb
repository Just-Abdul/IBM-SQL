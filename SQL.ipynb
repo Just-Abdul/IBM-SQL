{
    "cells": [
        {
            "metadata": {},
            "cell_type": "code",
            "source": "# Importing my csv data into IBM CLoud Object Storage\n\nimport os, types\nimport pandas as pd\nfrom botocore.client import Config\nimport ibm_boto3\n\ndef __iter__(self): return 0\n\n# @hidden_cell\n# The following code accesses a file in your IBM Cloud Object Storage. It includes your credentials.\n# You might want to remove those credentials before you share the notebook.\n\nif os.environ.get('RUNTIME_ENV_LOCATION_TYPE') == 'external':\n    endpoint_13f8556f41104461bc0ee72200808ec8 = 'https://s3-api.us-geo.objectstorage.softlayer.net'\nelse:\n    endpoint_13f8556f41104461bc0ee72200808ec8 = 'https://s3-api.us-geo.objectstorage.service.networklayer.com'\n\nclient_13f8556f41104461bc0ee72200808ec8 = ibm_boto3.client(service_name='s3',\n    ibm_api_key_id='ToTtX73E3GTNgwIaWw_RyoqHbnpGser44XVse6tYmRx8',\n    ibm_auth_endpoint=\"https://iam.cloud.ibm.com/oidc/token\",\n    config=Config(signature_version='oauth'),\n    endpoint_url=endpoint_13f8556f41104461bc0ee72200808ec8)\n\nbody = client_13f8556f41104461bc0ee72200808ec8.get_object(Bucket='mysql-donotdelete-pr-rxkyoetwuz7bkx',Key='film-locations-in-san-francisco.csv')['Body']\n# add missing __iter__ method, so pandas accepts body as file-like object\nif not hasattr(body, \"__iter__\"): body.__iter__ = types.MethodType( __iter__, body )\n\nLA = pd.read_csv(body)\nLA.head()\n",
            "execution_count": 6,
            "outputs": [
                {
                    "output_type": "execute_result",
                    "execution_count": 6,
                    "data": {
                        "text/plain": "  Title  Release Year                          Locations Fun Facts  \\\n0   180          2011                     555 Market St.       NaN   \n1   180          2011                     Randall Museum       NaN   \n2   180          2011                          City Hall       NaN   \n3   180          2011              Polk & Larkin Streets       NaN   \n4   180          2011  Epic Roasthouse (399 Embarcadero)       NaN   \n\n  Production Company Distributor  Director  \\\n0        SPI Cinemas         NaN  Jayendra   \n1        SPI Cinemas         NaN  Jayendra   \n2        SPI Cinemas         NaN  Jayendra   \n3        SPI Cinemas         NaN  Jayendra   \n4        SPI Cinemas         NaN  Jayendra   \n\n                                             Writer   Actor 1       Actor 2  \\\n0  Umarji Anuradha, Jayendra, Aarthi Sriram, & Suba  Siddarth  Nithya Menon   \n1  Umarji Anuradha, Jayendra, Aarthi Sriram, & Suba  Siddarth  Nithya Menon   \n2  Umarji Anuradha, Jayendra, Aarthi Sriram, & Suba  Siddarth  Nithya Menon   \n3  Umarji Anuradha, Jayendra, Aarthi Sriram, & Suba  Siddarth  Nithya Menon   \n4  Umarji Anuradha, Jayendra, Aarthi Sriram, & Suba  Siddarth  Nithya Menon   \n\n       Actor 3  \n0  Priya Anand  \n1  Priya Anand  \n2  Priya Anand  \n3  Priya Anand  \n4  Priya Anand  ",
                        "text/html": "<div>\n<style scoped>\n    .dataframe tbody tr th:only-of-type {\n        vertical-align: middle;\n    }\n\n    .dataframe tbody tr th {\n        vertical-align: top;\n    }\n\n    .dataframe thead th {\n        text-align: right;\n    }\n</style>\n<table border=\"1\" class=\"dataframe\">\n  <thead>\n    <tr style=\"text-align: right;\">\n      <th></th>\n      <th>Title</th>\n      <th>Release Year</th>\n      <th>Locations</th>\n      <th>Fun Facts</th>\n      <th>Production Company</th>\n      <th>Distributor</th>\n      <th>Director</th>\n      <th>Writer</th>\n      <th>Actor 1</th>\n      <th>Actor 2</th>\n      <th>Actor 3</th>\n    </tr>\n  </thead>\n  <tbody>\n    <tr>\n      <th>0</th>\n      <td>180</td>\n      <td>2011</td>\n      <td>555 Market St.</td>\n      <td>NaN</td>\n      <td>SPI Cinemas</td>\n      <td>NaN</td>\n      <td>Jayendra</td>\n      <td>Umarji Anuradha, Jayendra, Aarthi Sriram, &amp; Suba</td>\n      <td>Siddarth</td>\n      <td>Nithya Menon</td>\n      <td>Priya Anand</td>\n    </tr>\n    <tr>\n      <th>1</th>\n      <td>180</td>\n      <td>2011</td>\n      <td>Randall Museum</td>\n      <td>NaN</td>\n      <td>SPI Cinemas</td>\n      <td>NaN</td>\n      <td>Jayendra</td>\n      <td>Umarji Anuradha, Jayendra, Aarthi Sriram, &amp; Suba</td>\n      <td>Siddarth</td>\n      <td>Nithya Menon</td>\n      <td>Priya Anand</td>\n    </tr>\n    <tr>\n      <th>2</th>\n      <td>180</td>\n      <td>2011</td>\n      <td>City Hall</td>\n      <td>NaN</td>\n      <td>SPI Cinemas</td>\n      <td>NaN</td>\n      <td>Jayendra</td>\n      <td>Umarji Anuradha, Jayendra, Aarthi Sriram, &amp; Suba</td>\n      <td>Siddarth</td>\n      <td>Nithya Menon</td>\n      <td>Priya Anand</td>\n    </tr>\n    <tr>\n      <th>3</th>\n      <td>180</td>\n      <td>2011</td>\n      <td>Polk &amp; Larkin Streets</td>\n      <td>NaN</td>\n      <td>SPI Cinemas</td>\n      <td>NaN</td>\n      <td>Jayendra</td>\n      <td>Umarji Anuradha, Jayendra, Aarthi Sriram, &amp; Suba</td>\n      <td>Siddarth</td>\n      <td>Nithya Menon</td>\n      <td>Priya Anand</td>\n    </tr>\n    <tr>\n      <th>4</th>\n      <td>180</td>\n      <td>2011</td>\n      <td>Epic Roasthouse (399 Embarcadero)</td>\n      <td>NaN</td>\n      <td>SPI Cinemas</td>\n      <td>NaN</td>\n      <td>Jayendra</td>\n      <td>Umarji Anuradha, Jayendra, Aarthi Sriram, &amp; Suba</td>\n      <td>Siddarth</td>\n      <td>Nithya Menon</td>\n      <td>Priya Anand</td>\n    </tr>\n  </tbody>\n</table>\n</div>"
                    },
                    "metadata": {}
                }
            ]
        },
        {
            "metadata": {},
            "cell_type": "code",
            "source": "import sqlite3 #IMPORTING SQLITE",
            "execution_count": 2,
            "outputs": []
        },
        {
            "metadata": {},
            "cell_type": "code",
            "source": "from pathlib import Path\nPath('myfirstdb.db').touch() #CREATING MY FIRST DATABASE",
            "execution_count": 3,
            "outputs": []
        },
        {
            "metadata": {},
            "cell_type": "code",
            "source": "conn = sqlite3.connect('myfirstdb.db') #CONNECTING WITH THE DATABASE\nc = conn.cursor()",
            "execution_count": 4,
            "outputs": []
        },
        {
            "metadata": {},
            "cell_type": "code",
            "source": "# Defining Functions\n\ndef open_db():\n    conn = sqlite3.connect(path)\n    c = conn.cursor()\n\ndef close_db():    \n    return c.close()\n    return conn.close()\n\ndef save():\n    return conn.commit()\n    \ndef run(*args):\n    return c.execute(*args)",
            "execution_count": 5,
            "outputs": []
        },
        {
            "metadata": {},
            "cell_type": "code",
            "source": "# write the data to an sqlite table\n\nLA.to_sql('LA', conn, if_exists='append', index = False) # to_sql used to write dataframe to DB",
            "execution_count": 8,
            "outputs": [
                {
                    "output_type": "stream",
                    "text": "/opt/conda/envs/Python-3.7-main/lib/python3.7/site-packages/pandas/core/generic.py:2663: UserWarning: The spaces in these column names will not be changed. In pandas versions < 0.14, spaces were converted to underscores.\n  method=method,\n",
                    "name": "stderr"
                }
            ]
        },
        {
            "metadata": {},
            "cell_type": "code",
            "source": "",
            "execution_count": null,
            "outputs": []
        },
        {
            "metadata": {},
            "cell_type": "markdown",
            "source": "# SELECT Query"
        },
        {
            "metadata": {},
            "cell_type": "code",
            "source": "",
            "execution_count": null,
            "outputs": []
        },
        {
            "metadata": {},
            "cell_type": "code",
            "source": "# Fetch all record from LA table.\n\nall_record = c.execute('''SELECT * FROM LA''').fetchall()",
            "execution_count": 9,
            "outputs": []
        },
        {
            "metadata": {},
            "cell_type": "code",
            "source": "for data in all_record:\n    print(data)",
            "execution_count": null,
            "outputs": []
        },
        {
            "metadata": {},
            "cell_type": "code",
            "source": "# Converting the data into a dataframe ",
            "execution_count": null,
            "outputs": []
        },
        {
            "metadata": {},
            "cell_type": "code",
            "source": "table = pd.DataFrame(all_record) # A dataframe output\ntable",
            "execution_count": 11,
            "outputs": [
                {
                    "output_type": "execute_result",
                    "execution_count": 11,
                    "data": {
                        "text/plain": "                         0     1                                       2  \\\n0                      180  2011                          555 Market St.   \n1                      180  2011                          Randall Museum   \n2                      180  2011                               City Hall   \n3                      180  2011                   Polk & Larkin Streets   \n4                      180  2011       Epic Roasthouse (399 Embarcadero)   \n...                    ...   ...                                     ...   \n3409          Woman on Top  2000                     312 Fillmore Street   \n3410  Yours, Mine and Ours  1968                                    None   \n3411  Yours, Mine and Ours  1968                                    None   \n3412                Zodiac  2007  SF Chronicle Building (901 Mission St)   \n3413                Zodiac  2007  SF Chronicle Building (901 Mission St)   \n\n         3                         4                         5  \\\n0     None               SPI Cinemas                      None   \n1     None               SPI Cinemas                      None   \n2     None               SPI Cinemas                      None   \n3     None               SPI Cinemas                      None   \n4     None               SPI Cinemas                      None   \n...    ...                       ...                       ...   \n3409  None  Fox Searchlight Pictures  Fox Searchlight Pictures   \n3410  None        Desilu Productions            United Artists   \n3411  None        Desilu Productions            United Artists   \n3412  None        Paramount Pictures        Paramount Pictures   \n3413  None        Paramount Pictures        Paramount Pictures   \n\n                       6                                                 7  \\\n0               Jayendra  Umarji Anuradha, Jayendra, Aarthi Sriram, & Suba   \n1               Jayendra  Umarji Anuradha, Jayendra, Aarthi Sriram, & Suba   \n2               Jayendra  Umarji Anuradha, Jayendra, Aarthi Sriram, & Suba   \n3               Jayendra  Umarji Anuradha, Jayendra, Aarthi Sriram, & Suba   \n4               Jayendra  Umarji Anuradha, Jayendra, Aarthi Sriram, & Suba   \n...                  ...                                               ...   \n3409         Fina Torres                                        Vera Blasi   \n3410  Melville Shavelson                                  Bob Carroll, Jr.   \n3411  Melville Shavelson                                  Bob Carroll, Jr.   \n3412       David Fincher                                  James Vanderbilt   \n3413       David Fincher                                  James Vanderbilt   \n\n                    8             9           10  \n0            Siddarth  Nithya Menon  Priya Anand  \n1            Siddarth  Nithya Menon  Priya Anand  \n2            Siddarth  Nithya Menon  Priya Anand  \n3            Siddarth  Nithya Menon  Priya Anand  \n4            Siddarth  Nithya Menon  Priya Anand  \n...               ...           ...          ...  \n3409    Penelope Cruz          None         None  \n3410     Lucille Ball   Henry Fonda  Van Johnson  \n3411     Lucille Ball   Henry Fonda  Van Johnson  \n3412  Jake Gyllenhaal  Mark Ruffalo         None  \n3413  Jake Gyllenhaal  Mark Ruffalo         None  \n\n[3414 rows x 11 columns]",
                        "text/html": "<div>\n<style scoped>\n    .dataframe tbody tr th:only-of-type {\n        vertical-align: middle;\n    }\n\n    .dataframe tbody tr th {\n        vertical-align: top;\n    }\n\n    .dataframe thead th {\n        text-align: right;\n    }\n</style>\n<table border=\"1\" class=\"dataframe\">\n  <thead>\n    <tr style=\"text-align: right;\">\n      <th></th>\n      <th>0</th>\n      <th>1</th>\n      <th>2</th>\n      <th>3</th>\n      <th>4</th>\n      <th>5</th>\n      <th>6</th>\n      <th>7</th>\n      <th>8</th>\n      <th>9</th>\n      <th>10</th>\n    </tr>\n  </thead>\n  <tbody>\n    <tr>\n      <th>0</th>\n      <td>180</td>\n      <td>2011</td>\n      <td>555 Market St.</td>\n      <td>None</td>\n      <td>SPI Cinemas</td>\n      <td>None</td>\n      <td>Jayendra</td>\n      <td>Umarji Anuradha, Jayendra, Aarthi Sriram, &amp; Suba</td>\n      <td>Siddarth</td>\n      <td>Nithya Menon</td>\n      <td>Priya Anand</td>\n    </tr>\n    <tr>\n      <th>1</th>\n      <td>180</td>\n      <td>2011</td>\n      <td>Randall Museum</td>\n      <td>None</td>\n      <td>SPI Cinemas</td>\n      <td>None</td>\n      <td>Jayendra</td>\n      <td>Umarji Anuradha, Jayendra, Aarthi Sriram, &amp; Suba</td>\n      <td>Siddarth</td>\n      <td>Nithya Menon</td>\n      <td>Priya Anand</td>\n    </tr>\n    <tr>\n      <th>2</th>\n      <td>180</td>\n      <td>2011</td>\n      <td>City Hall</td>\n      <td>None</td>\n      <td>SPI Cinemas</td>\n      <td>None</td>\n      <td>Jayendra</td>\n      <td>Umarji Anuradha, Jayendra, Aarthi Sriram, &amp; Suba</td>\n      <td>Siddarth</td>\n      <td>Nithya Menon</td>\n      <td>Priya Anand</td>\n    </tr>\n    <tr>\n      <th>3</th>\n      <td>180</td>\n      <td>2011</td>\n      <td>Polk &amp; Larkin Streets</td>\n      <td>None</td>\n      <td>SPI Cinemas</td>\n      <td>None</td>\n      <td>Jayendra</td>\n      <td>Umarji Anuradha, Jayendra, Aarthi Sriram, &amp; Suba</td>\n      <td>Siddarth</td>\n      <td>Nithya Menon</td>\n      <td>Priya Anand</td>\n    </tr>\n    <tr>\n      <th>4</th>\n      <td>180</td>\n      <td>2011</td>\n      <td>Epic Roasthouse (399 Embarcadero)</td>\n      <td>None</td>\n      <td>SPI Cinemas</td>\n      <td>None</td>\n      <td>Jayendra</td>\n      <td>Umarji Anuradha, Jayendra, Aarthi Sriram, &amp; Suba</td>\n      <td>Siddarth</td>\n      <td>Nithya Menon</td>\n      <td>Priya Anand</td>\n    </tr>\n    <tr>\n      <th>...</th>\n      <td>...</td>\n      <td>...</td>\n      <td>...</td>\n      <td>...</td>\n      <td>...</td>\n      <td>...</td>\n      <td>...</td>\n      <td>...</td>\n      <td>...</td>\n      <td>...</td>\n      <td>...</td>\n    </tr>\n    <tr>\n      <th>3409</th>\n      <td>Woman on Top</td>\n      <td>2000</td>\n      <td>312 Fillmore Street</td>\n      <td>None</td>\n      <td>Fox Searchlight Pictures</td>\n      <td>Fox Searchlight Pictures</td>\n      <td>Fina Torres</td>\n      <td>Vera Blasi</td>\n      <td>Penelope Cruz</td>\n      <td>None</td>\n      <td>None</td>\n    </tr>\n    <tr>\n      <th>3410</th>\n      <td>Yours, Mine and Ours</td>\n      <td>1968</td>\n      <td>None</td>\n      <td>None</td>\n      <td>Desilu Productions</td>\n      <td>United Artists</td>\n      <td>Melville Shavelson</td>\n      <td>Bob Carroll, Jr.</td>\n      <td>Lucille Ball</td>\n      <td>Henry Fonda</td>\n      <td>Van Johnson</td>\n    </tr>\n    <tr>\n      <th>3411</th>\n      <td>Yours, Mine and Ours</td>\n      <td>1968</td>\n      <td>None</td>\n      <td>None</td>\n      <td>Desilu Productions</td>\n      <td>United Artists</td>\n      <td>Melville Shavelson</td>\n      <td>Bob Carroll, Jr.</td>\n      <td>Lucille Ball</td>\n      <td>Henry Fonda</td>\n      <td>Van Johnson</td>\n    </tr>\n    <tr>\n      <th>3412</th>\n      <td>Zodiac</td>\n      <td>2007</td>\n      <td>SF Chronicle Building (901 Mission St)</td>\n      <td>None</td>\n      <td>Paramount Pictures</td>\n      <td>Paramount Pictures</td>\n      <td>David Fincher</td>\n      <td>James Vanderbilt</td>\n      <td>Jake Gyllenhaal</td>\n      <td>Mark Ruffalo</td>\n      <td>None</td>\n    </tr>\n    <tr>\n      <th>3413</th>\n      <td>Zodiac</td>\n      <td>2007</td>\n      <td>SF Chronicle Building (901 Mission St)</td>\n      <td>None</td>\n      <td>Paramount Pictures</td>\n      <td>Paramount Pictures</td>\n      <td>David Fincher</td>\n      <td>James Vanderbilt</td>\n      <td>Jake Gyllenhaal</td>\n      <td>Mark Ruffalo</td>\n      <td>None</td>\n    </tr>\n  </tbody>\n</table>\n<p>3414 rows \u00d7 11 columns</p>\n</div>"
                    },
                    "metadata": {}
                }
            ]
        },
        {
            "metadata": {},
            "cell_type": "code",
            "source": "save() #Saves changes to the database using the user-defined function",
            "execution_count": 12,
            "outputs": []
        },
        {
            "metadata": {},
            "cell_type": "code",
            "source": "",
            "execution_count": null,
            "outputs": []
        },
        {
            "metadata": {},
            "cell_type": "code",
            "source": "c.execute('''ALTER TABLE LA RENAME COLUMN `Actor 1` TO MainActor''') # Renaming the column name.",
            "execution_count": 13,
            "outputs": [
                {
                    "output_type": "execute_result",
                    "execution_count": 13,
                    "data": {
                        "text/plain": "<sqlite3.Cursor at 0x7fedf894c3b0>"
                    },
                    "metadata": {}
                }
            ]
        },
        {
            "metadata": {},
            "cell_type": "code",
            "source": "some_record = run('''SELECT Title, Locations, `Actor 2` FROM LA LIMIT 10''') # PUTTING VALUES CONTAINING SPACE INTO (``) MAKES THE QUERY EXECUTABLE.",
            "execution_count": 14,
            "outputs": []
        },
        {
            "metadata": {
                "scrolled": true
            },
            "cell_type": "code",
            "source": "for item in some_record:\n    print(item)",
            "execution_count": 15,
            "outputs": [
                {
                    "output_type": "stream",
                    "text": "('180', '555 Market St.', 'Nithya Menon')\n('180', 'Randall Museum', 'Nithya Menon')\n('180', 'City Hall', 'Nithya Menon')\n('180', 'Polk & Larkin Streets', 'Nithya Menon')\n('180', 'Epic Roasthouse (399 Embarcadero)', 'Nithya Menon')\n('180', 'Justin Herman Plaza', 'Nithya Menon')\n('180', '200 block Market Street', 'Nithya Menon')\n('180', 'Mason & California Streets (Nob Hill)', 'Nithya Menon')\n('180', 'Epic Roasthouse (399 Embarcadero)', 'Nithya Menon')\n('180', 'Mason & California Streets (Nob Hill)', 'Nithya Menon')\n",
                    "name": "stdout"
                }
            ]
        },
        {
            "metadata": {},
            "cell_type": "code",
            "source": "Schema = c.execute(''' PRAGMA table_info(\"LA\")''') # Schema of the Table using PRAGMA\n\nfor obj in Schema:\n    print (obj) # To print out the column names only *obj[1]* should be used ",
            "execution_count": 27,
            "outputs": [
                {
                    "output_type": "stream",
                    "text": "(0, 'Title', 'TEXT', 0, None, 0)\n(1, 'Release Year', 'INTEGER', 0, None, 0)\n(2, 'Locations', 'TEXT', 0, None, 0)\n(3, 'Fun Facts', 'TEXT', 0, None, 0)\n(4, 'Production Company', 'TEXT', 0, None, 0)\n(5, 'Distributor', 'TEXT', 0, None, 0)\n(6, 'Director', 'TEXT', 0, None, 0)\n(7, 'Writer', 'TEXT', 0, None, 0)\n(8, 'MainActor', 'TEXT', 0, None, 0)\n(9, 'Actor 2', 'TEXT', 0, None, 0)\n(10, 'Actor 3', 'TEXT', 0, None, 0)\n",
                    "name": "stdout"
                }
            ]
        },
        {
            "metadata": {},
            "cell_type": "code",
            "source": "title_release = c.execute('''SELECT Title, `Release Year` FROM LA''').fetchone() #Fetchone fetches one item from the table",
            "execution_count": 16,
            "outputs": []
        },
        {
            "metadata": {},
            "cell_type": "code",
            "source": "fun_Prod = c.execute('''SELECT `Production Company`, `Fun Facts` FROM LA''').fetchmany(20) #Fetchmany is used to retrieve more than one item, and the number of items needed can be specified, in this case (20)\n\nfor obj in fun_Prod:\n    print (obj)",
            "execution_count": 17,
            "outputs": [
                {
                    "output_type": "stream",
                    "text": "('SPI Cinemas', None)\n('SPI Cinemas', None)\n('SPI Cinemas', None)\n('SPI Cinemas', None)\n('SPI Cinemas', None)\n('SPI Cinemas', None)\n('SPI Cinemas', None)\n('SPI Cinemas', None)\n('SPI Cinemas', None)\n('SPI Cinemas', None)\n('SPI Cinemas', None)\n('SPI Cinemas', None)\n('SPI Cinemas', None)\n('SPI Cinemas', None)\n('SPI Cinemas', None)\n('SPI Cinemas', None)\n('Yerba Buena Productions', None)\n('Yerba Buena Productions', None)\n('Miramax Films', 'Francis Ford Coppola allegedly wrote large portions of \"The Godfather\" trilogy in Caf\u00e9 Trieste.')\n('Miramax Films', 'Established in 1867, Buena Vista Park is the oldest official park in San Francisco.')\n",
                    "name": "stdout"
                }
            ]
        },
        {
            "metadata": {},
            "cell_type": "code",
            "source": "Write_Act = run('''SELECT Writer, `Actor 2` FROM LA LIMIT 20''')  #LIMITS THE NUMBER OF OUTPUT TO 20",
            "execution_count": 18,
            "outputs": []
        },
        {
            "metadata": {},
            "cell_type": "code",
            "source": "for obj in Write_Act:\n    print (obj)",
            "execution_count": 19,
            "outputs": [
                {
                    "output_type": "stream",
                    "text": "('Umarji Anuradha, Jayendra, Aarthi Sriram, & Suba', 'Nithya Menon')\n('Umarji Anuradha, Jayendra, Aarthi Sriram, & Suba', 'Nithya Menon')\n('Umarji Anuradha, Jayendra, Aarthi Sriram, & Suba', 'Nithya Menon')\n('Umarji Anuradha, Jayendra, Aarthi Sriram, & Suba', 'Nithya Menon')\n('Umarji Anuradha, Jayendra, Aarthi Sriram, & Suba', 'Nithya Menon')\n('Umarji Anuradha, Jayendra, Aarthi Sriram, & Suba', 'Nithya Menon')\n('Umarji Anuradha, Jayendra, Aarthi Sriram, & Suba', 'Nithya Menon')\n('Umarji Anuradha, Jayendra, Aarthi Sriram, & Suba', 'Nithya Menon')\n('Umarji Anuradha, Jayendra, Aarthi Sriram, & Suba ', 'Nithya Menon')\n('Umarji Anuradha, Jayendra, Aarthi Sriram, & Suba ', 'Nithya Menon')\n('Umarji Anuradha, Jayendra, Aarthi Sriram, & Suba ', 'Nithya Menon')\n('Umarji Anuradha, Jayendra, Aarthi Sriram, & Suba ', 'Nithya Menon')\n('Umarji Anuradha, Jayendra, Aarthi Sriram, & Suba ', 'Nithya Menon')\n('Umarji Anuradha, Jayendra, Aarthi Sriram, & Suba ', 'Nithya Menon')\n('Umarji Anuradha, Jayendra, Aarthi Sriram, & Suba ', 'Nithya Menon')\n('Umarji Anuradha, Jayendra, Aarthi Sriram, & Suba ', 'Nithya Menon')\n(None, None)\n(None, None)\n('Robert Perez', 'Shaynnyn Sossamon')\n('Robert Perez', 'Shaynnyn Sossamon')\n",
                    "name": "stdout"
                }
            ]
        },
        {
            "metadata": {},
            "cell_type": "code",
            "source": "",
            "execution_count": null,
            "outputs": []
        },
        {
            "metadata": {},
            "cell_type": "markdown",
            "source": "# COUNT, DISTINCT, LIMIT"
        },
        {
            "metadata": {},
            "cell_type": "code",
            "source": "",
            "execution_count": null,
            "outputs": []
        },
        {
            "metadata": {},
            "cell_type": "code",
            "source": "count = run(''' SELECT COUNT (*) FROM LA''') # Counts all the rows in the table\nfor item in count:\n    print (item)",
            "execution_count": 20,
            "outputs": [
                {
                    "output_type": "stream",
                    "text": "(3414,)\n",
                    "name": "stdout"
                }
            ]
        },
        {
            "metadata": {},
            "cell_type": "code",
            "source": "# The number of locations of the films which are written by James Cameron.\n\nJC_Count = run('''SELECT COUNT (Locations) FROM LA WHERE Writer = 'James Cameron' ''')\nfor item in JC_Count:\n    print (item)",
            "execution_count": 24,
            "outputs": [
                {
                    "output_type": "stream",
                    "text": "(48,)\n",
                    "name": "stdout"
                }
            ]
        },
        {
            "metadata": {},
            "cell_type": "code",
            "source": "# The number of films shot at Russian Hill.\n\nRH_Count = c.execute('''SELECT COUNT (*) FROM LA WHERE  Locations = 'Russian Hill' ''')\nfor item in RH_Count:\n    print (item)",
            "execution_count": 25,
            "outputs": [
                {
                    "output_type": "stream",
                    "text": "(1,)\n",
                    "name": "stdout"
                }
            ]
        },
        {
            "metadata": {},
            "cell_type": "markdown",
            "source": "# DISTINCT"
        },
        {
            "metadata": {},
            "cell_type": "code",
            "source": "# Name of all films without any repeated titles.\n\nTitles_ = run('''SELECT DISTINCT (Title) FROM LA''').fetchall()\nfor item in Titles_:\n    print (item)",
            "execution_count": null,
            "outputs": []
        },
        {
            "metadata": {},
            "cell_type": "code",
            "source": "T_itles = pd.DataFrame(Titles_)\nT_itles",
            "execution_count": 33,
            "outputs": [
                {
                    "output_type": "execute_result",
                    "execution_count": 33,
                    "data": {
                        "text/plain": "                          0\n0                       180\n1    24 Hours on Craigslist\n2     40 Days and 40 Nights\n3                  48 Hours\n4            50 First Dates\n..                      ...\n311            When We Rise\n312        Woman on the Run\n313            Woman on Top\n314    Yours, Mine and Ours\n315                  Zodiac\n\n[316 rows x 1 columns]",
                        "text/html": "<div>\n<style scoped>\n    .dataframe tbody tr th:only-of-type {\n        vertical-align: middle;\n    }\n\n    .dataframe tbody tr th {\n        vertical-align: top;\n    }\n\n    .dataframe thead th {\n        text-align: right;\n    }\n</style>\n<table border=\"1\" class=\"dataframe\">\n  <thead>\n    <tr style=\"text-align: right;\">\n      <th></th>\n      <th>0</th>\n    </tr>\n  </thead>\n  <tbody>\n    <tr>\n      <th>0</th>\n      <td>180</td>\n    </tr>\n    <tr>\n      <th>1</th>\n      <td>24 Hours on Craigslist</td>\n    </tr>\n    <tr>\n      <th>2</th>\n      <td>40 Days and 40 Nights</td>\n    </tr>\n    <tr>\n      <th>3</th>\n      <td>48 Hours</td>\n    </tr>\n    <tr>\n      <th>4</th>\n      <td>50 First Dates</td>\n    </tr>\n    <tr>\n      <th>...</th>\n      <td>...</td>\n    </tr>\n    <tr>\n      <th>311</th>\n      <td>When We Rise</td>\n    </tr>\n    <tr>\n      <th>312</th>\n      <td>Woman on the Run</td>\n    </tr>\n    <tr>\n      <th>313</th>\n      <td>Woman on Top</td>\n    </tr>\n    <tr>\n      <th>314</th>\n      <td>Yours, Mine and Ours</td>\n    </tr>\n    <tr>\n      <th>315</th>\n      <td>Zodiac</td>\n    </tr>\n  </tbody>\n</table>\n<p>316 rows \u00d7 1 columns</p>\n</div>"
                    },
                    "metadata": {}
                }
            ]
        },
        {
            "metadata": {
                "scrolled": false
            },
            "cell_type": "code",
            "source": "# The name of all unique films released in the 21st century and onwards, along with their release years\n\nUnique_films = run('''SELECT DISTINCT (Title), `Release Year` FROM LA WHERE `Release Year` >2000 ''').fetchall()",
            "execution_count": 37,
            "outputs": []
        },
        {
            "metadata": {
                "scrolled": true
            },
            "cell_type": "code",
            "source": "U_films = pd.DataFrame(Unique_films)\nU_films",
            "execution_count": 38,
            "outputs": [
                {
                    "output_type": "execute_result",
                    "execution_count": 38,
                    "data": {
                        "text/plain": "                             0     1\n0                          180  2011\n1       24 Hours on Craigslist  2005\n2        40 Days and 40 Nights  2002\n3               50 First Dates  2004\n4                  About a Boy  2014\n..                         ...   ...\n119       Under the Tuscan Sun  2003\n120                      Venom  2018\n121  What the Bleep Do We Know  2004\n122               When We Rise  2017\n123                     Zodiac  2007\n\n[124 rows x 2 columns]",
                        "text/html": "<div>\n<style scoped>\n    .dataframe tbody tr th:only-of-type {\n        vertical-align: middle;\n    }\n\n    .dataframe tbody tr th {\n        vertical-align: top;\n    }\n\n    .dataframe thead th {\n        text-align: right;\n    }\n</style>\n<table border=\"1\" class=\"dataframe\">\n  <thead>\n    <tr style=\"text-align: right;\">\n      <th></th>\n      <th>0</th>\n      <th>1</th>\n    </tr>\n  </thead>\n  <tbody>\n    <tr>\n      <th>0</th>\n      <td>180</td>\n      <td>2011</td>\n    </tr>\n    <tr>\n      <th>1</th>\n      <td>24 Hours on Craigslist</td>\n      <td>2005</td>\n    </tr>\n    <tr>\n      <th>2</th>\n      <td>40 Days and 40 Nights</td>\n      <td>2002</td>\n    </tr>\n    <tr>\n      <th>3</th>\n      <td>50 First Dates</td>\n      <td>2004</td>\n    </tr>\n    <tr>\n      <th>4</th>\n      <td>About a Boy</td>\n      <td>2014</td>\n    </tr>\n    <tr>\n      <th>...</th>\n      <td>...</td>\n      <td>...</td>\n    </tr>\n    <tr>\n      <th>119</th>\n      <td>Under the Tuscan Sun</td>\n      <td>2003</td>\n    </tr>\n    <tr>\n      <th>120</th>\n      <td>Venom</td>\n      <td>2018</td>\n    </tr>\n    <tr>\n      <th>121</th>\n      <td>What the Bleep Do We Know</td>\n      <td>2004</td>\n    </tr>\n    <tr>\n      <th>122</th>\n      <td>When We Rise</td>\n      <td>2017</td>\n    </tr>\n    <tr>\n      <th>123</th>\n      <td>Zodiac</td>\n      <td>2007</td>\n    </tr>\n  </tbody>\n</table>\n<p>124 rows \u00d7 2 columns</p>\n</div>"
                    },
                    "metadata": {}
                }
            ]
        },
        {
            "metadata": {},
            "cell_type": "code",
            "source": "# The first 15 rows from the table starting from row 44\n\nrow_44 = c.execute('''SELECT * FROM LA LIMIT 15 OFFSET 44''').fetchall()\n",
            "execution_count": 68,
            "outputs": []
        },
        {
            "metadata": {},
            "cell_type": "code",
            "source": "_row44 = pd.DataFrame(row_44)\n_row44",
            "execution_count": 69,
            "outputs": [
                {
                    "output_type": "execute_result",
                    "execution_count": 69,
                    "data": {
                        "text/plain": "                     0     1                                        2  \\\n0   A Jitney Elopement  1915                  20th and Folsom Streets   \n1   A Jitney Elopement  1915                         Golden Gate Park   \n2   A Jitney Elopement  1915                         Golden Gate Park   \n3   A Jitney Elopement  1915                  20th and Folsom Streets   \n4             Alcatraz  2012     Chestnut St. from Larkin to Columbus   \n5             Alcatraz  2012      Taylor St. from Broadway to Filbert   \n6             Alcatraz  2012         Francisco St from Larkin to Polk   \n7             Alcatraz  2012            Broadway from Mason to Taylor   \n8             Alcatraz  2012  Leavenworth from Filbert & Francisco St   \n9             Alcatraz  2012          Filbert St. from Jones to Mason   \n10            Alcatraz  2012          Filbert St. from Jones to Mason   \n11            Alcatraz  2012  Leavenworth from Filbert & Francisco St   \n12            Alcatraz  2012            Broadway from Mason to Taylor   \n13            Alcatraz  2012         Francisco St from Larkin to Polk   \n14            Alcatraz  2012      Taylor St. from Broadway to Filbert   \n\n                                                    3  \\\n0                                                None   \n1   During San Francisco's Gold Rush era, the Park...   \n2   During San Francisco's Gold Rush era, the Park...   \n3                                                None   \n4                                                None   \n5                                                None   \n6                                                None   \n7                                                None   \n8                                                None   \n9                                                None   \n10                                               None   \n11                                               None   \n12                                               None   \n13                                               None   \n14                                               None   \n\n                                         4                        5  \\\n0   The Essanay Film Manufacturing Company     General Film Company   \n1   The Essanay Film Manufacturing Company     General Film Company   \n2   The Essanay Film Manufacturing Company     General Film Company   \n3   The Essanay Film Manufacturing Company     General Film Company   \n4                 Bonanza Productions Inc.  Warner Bros. Television   \n5                 Bonanza Productions Inc.  Warner Bros. Television   \n6                 Bonanza Productions Inc.  Warner Bros. Television   \n7                 Bonanza Productions Inc.  Warner Bros. Television   \n8                 Bonanza Productions Inc.  Warner Bros. Television   \n9                 Bonanza Productions Inc.  Warner Bros. Television   \n10                Bonanza Productions Inc.  Warner Bros. Television   \n11                Bonanza Productions Inc.  Warner Bros. Television   \n12                Bonanza Productions Inc.  Warner Bros. Television   \n13                Bonanza Productions Inc.  Warner Bros. Television   \n14                Bonanza Productions Inc.  Warner Bros. Television   \n\n                  6                7                8               9    10  \n0   Charles Chaplin  Charles Chaplin  Charles Chaplin  Edna Purviance  None  \n1   Charles Chaplin  Charles Chaplin  Charles Chaplin  Edna Purviance  None  \n2   Charles Chaplin  Charles Chaplin  Charles Chaplin  Edna Purviance  None  \n3   Charles Chaplin  Charles Chaplin  Charles Chaplin  Edna Purviance  None  \n4       J.J. Abrams    Steven Lilien      Sarah Jones    Jorge Garcia  None  \n5       J.J. Abrams    Steven Lilien      Sarah Jones    Jorge Garcia  None  \n6       J.J. Abrams    Steven Lilien      Sarah Jones    Jorge Garcia  None  \n7       J.J. Abrams    Steven Lilien      Sarah Jones    Jorge Garcia  None  \n8       J.J. Abrams    Steven Lilien      Sarah Jones    Jorge Garcia  None  \n9       J.J. Abrams    Steven Lilien      Sarah Jones    Jorge Garcia  None  \n10      J.J. Abrams    Steven Lilien      Sarah Jones    Jorge Garcia  None  \n11      J.J. Abrams    Steven Lilien      Sarah Jones    Jorge Garcia  None  \n12      J.J. Abrams    Steven Lilien      Sarah Jones    Jorge Garcia  None  \n13      J.J. Abrams    Steven Lilien      Sarah Jones    Jorge Garcia  None  \n14      J.J. Abrams    Steven Lilien      Sarah Jones    Jorge Garcia  None  ",
                        "text/html": "<div>\n<style scoped>\n    .dataframe tbody tr th:only-of-type {\n        vertical-align: middle;\n    }\n\n    .dataframe tbody tr th {\n        vertical-align: top;\n    }\n\n    .dataframe thead th {\n        text-align: right;\n    }\n</style>\n<table border=\"1\" class=\"dataframe\">\n  <thead>\n    <tr style=\"text-align: right;\">\n      <th></th>\n      <th>0</th>\n      <th>1</th>\n      <th>2</th>\n      <th>3</th>\n      <th>4</th>\n      <th>5</th>\n      <th>6</th>\n      <th>7</th>\n      <th>8</th>\n      <th>9</th>\n      <th>10</th>\n    </tr>\n  </thead>\n  <tbody>\n    <tr>\n      <th>0</th>\n      <td>A Jitney Elopement</td>\n      <td>1915</td>\n      <td>20th and Folsom Streets</td>\n      <td>None</td>\n      <td>The Essanay Film Manufacturing Company</td>\n      <td>General Film Company</td>\n      <td>Charles Chaplin</td>\n      <td>Charles Chaplin</td>\n      <td>Charles Chaplin</td>\n      <td>Edna Purviance</td>\n      <td>None</td>\n    </tr>\n    <tr>\n      <th>1</th>\n      <td>A Jitney Elopement</td>\n      <td>1915</td>\n      <td>Golden Gate Park</td>\n      <td>During San Francisco's Gold Rush era, the Park...</td>\n      <td>The Essanay Film Manufacturing Company</td>\n      <td>General Film Company</td>\n      <td>Charles Chaplin</td>\n      <td>Charles Chaplin</td>\n      <td>Charles Chaplin</td>\n      <td>Edna Purviance</td>\n      <td>None</td>\n    </tr>\n    <tr>\n      <th>2</th>\n      <td>A Jitney Elopement</td>\n      <td>1915</td>\n      <td>Golden Gate Park</td>\n      <td>During San Francisco's Gold Rush era, the Park...</td>\n      <td>The Essanay Film Manufacturing Company</td>\n      <td>General Film Company</td>\n      <td>Charles Chaplin</td>\n      <td>Charles Chaplin</td>\n      <td>Charles Chaplin</td>\n      <td>Edna Purviance</td>\n      <td>None</td>\n    </tr>\n    <tr>\n      <th>3</th>\n      <td>A Jitney Elopement</td>\n      <td>1915</td>\n      <td>20th and Folsom Streets</td>\n      <td>None</td>\n      <td>The Essanay Film Manufacturing Company</td>\n      <td>General Film Company</td>\n      <td>Charles Chaplin</td>\n      <td>Charles Chaplin</td>\n      <td>Charles Chaplin</td>\n      <td>Edna Purviance</td>\n      <td>None</td>\n    </tr>\n    <tr>\n      <th>4</th>\n      <td>Alcatraz</td>\n      <td>2012</td>\n      <td>Chestnut St. from Larkin to Columbus</td>\n      <td>None</td>\n      <td>Bonanza Productions Inc.</td>\n      <td>Warner Bros. Television</td>\n      <td>J.J. Abrams</td>\n      <td>Steven Lilien</td>\n      <td>Sarah Jones</td>\n      <td>Jorge Garcia</td>\n      <td>None</td>\n    </tr>\n    <tr>\n      <th>5</th>\n      <td>Alcatraz</td>\n      <td>2012</td>\n      <td>Taylor St. from Broadway to Filbert</td>\n      <td>None</td>\n      <td>Bonanza Productions Inc.</td>\n      <td>Warner Bros. Television</td>\n      <td>J.J. Abrams</td>\n      <td>Steven Lilien</td>\n      <td>Sarah Jones</td>\n      <td>Jorge Garcia</td>\n      <td>None</td>\n    </tr>\n    <tr>\n      <th>6</th>\n      <td>Alcatraz</td>\n      <td>2012</td>\n      <td>Francisco St from Larkin to Polk</td>\n      <td>None</td>\n      <td>Bonanza Productions Inc.</td>\n      <td>Warner Bros. Television</td>\n      <td>J.J. Abrams</td>\n      <td>Steven Lilien</td>\n      <td>Sarah Jones</td>\n      <td>Jorge Garcia</td>\n      <td>None</td>\n    </tr>\n    <tr>\n      <th>7</th>\n      <td>Alcatraz</td>\n      <td>2012</td>\n      <td>Broadway from Mason to Taylor</td>\n      <td>None</td>\n      <td>Bonanza Productions Inc.</td>\n      <td>Warner Bros. Television</td>\n      <td>J.J. Abrams</td>\n      <td>Steven Lilien</td>\n      <td>Sarah Jones</td>\n      <td>Jorge Garcia</td>\n      <td>None</td>\n    </tr>\n    <tr>\n      <th>8</th>\n      <td>Alcatraz</td>\n      <td>2012</td>\n      <td>Leavenworth from Filbert &amp; Francisco St</td>\n      <td>None</td>\n      <td>Bonanza Productions Inc.</td>\n      <td>Warner Bros. Television</td>\n      <td>J.J. Abrams</td>\n      <td>Steven Lilien</td>\n      <td>Sarah Jones</td>\n      <td>Jorge Garcia</td>\n      <td>None</td>\n    </tr>\n    <tr>\n      <th>9</th>\n      <td>Alcatraz</td>\n      <td>2012</td>\n      <td>Filbert St. from Jones to Mason</td>\n      <td>None</td>\n      <td>Bonanza Productions Inc.</td>\n      <td>Warner Bros. Television</td>\n      <td>J.J. Abrams</td>\n      <td>Steven Lilien</td>\n      <td>Sarah Jones</td>\n      <td>Jorge Garcia</td>\n      <td>None</td>\n    </tr>\n    <tr>\n      <th>10</th>\n      <td>Alcatraz</td>\n      <td>2012</td>\n      <td>Filbert St. from Jones to Mason</td>\n      <td>None</td>\n      <td>Bonanza Productions Inc.</td>\n      <td>Warner Bros. Television</td>\n      <td>J.J. Abrams</td>\n      <td>Steven Lilien</td>\n      <td>Sarah Jones</td>\n      <td>Jorge Garcia</td>\n      <td>None</td>\n    </tr>\n    <tr>\n      <th>11</th>\n      <td>Alcatraz</td>\n      <td>2012</td>\n      <td>Leavenworth from Filbert &amp; Francisco St</td>\n      <td>None</td>\n      <td>Bonanza Productions Inc.</td>\n      <td>Warner Bros. Television</td>\n      <td>J.J. Abrams</td>\n      <td>Steven Lilien</td>\n      <td>Sarah Jones</td>\n      <td>Jorge Garcia</td>\n      <td>None</td>\n    </tr>\n    <tr>\n      <th>12</th>\n      <td>Alcatraz</td>\n      <td>2012</td>\n      <td>Broadway from Mason to Taylor</td>\n      <td>None</td>\n      <td>Bonanza Productions Inc.</td>\n      <td>Warner Bros. Television</td>\n      <td>J.J. Abrams</td>\n      <td>Steven Lilien</td>\n      <td>Sarah Jones</td>\n      <td>Jorge Garcia</td>\n      <td>None</td>\n    </tr>\n    <tr>\n      <th>13</th>\n      <td>Alcatraz</td>\n      <td>2012</td>\n      <td>Francisco St from Larkin to Polk</td>\n      <td>None</td>\n      <td>Bonanza Productions Inc.</td>\n      <td>Warner Bros. Television</td>\n      <td>J.J. Abrams</td>\n      <td>Steven Lilien</td>\n      <td>Sarah Jones</td>\n      <td>Jorge Garcia</td>\n      <td>None</td>\n    </tr>\n    <tr>\n      <th>14</th>\n      <td>Alcatraz</td>\n      <td>2012</td>\n      <td>Taylor St. from Broadway to Filbert</td>\n      <td>None</td>\n      <td>Bonanza Productions Inc.</td>\n      <td>Warner Bros. Television</td>\n      <td>J.J. Abrams</td>\n      <td>Steven Lilien</td>\n      <td>Sarah Jones</td>\n      <td>Jorge Garcia</td>\n      <td>None</td>\n    </tr>\n  </tbody>\n</table>\n</div>"
                    },
                    "metadata": {}
                }
            ]
        }
    ],
    "metadata": {
        "kernelspec": {
            "name": "python3",
            "display_name": "Python 3.7",
            "language": "python"
        },
        "language_info": {
            "name": "python",
            "version": "3.7.10",
            "mimetype": "text/x-python",
            "codemirror_mode": {
                "name": "ipython",
                "version": 3
            },
            "pygments_lexer": "ipython3",
            "nbconvert_exporter": "python",
            "file_extension": ".py"
        }
    },
    "nbformat": 4,
    "nbformat_minor": 1
}