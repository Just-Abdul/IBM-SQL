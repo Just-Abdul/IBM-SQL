{
    "cells": [
        {
            "cell_type": "code",
            "execution_count": null,
            "metadata": {
                "scrolled": true
            },
            "outputs": [],
            "source": "!pip install sqlalchemy==1.3.9\n!pip install ibm_db_sa\n!pip install ipython-sql extension"
        },
        {
            "cell_type": "code",
            "execution_count": 24,
            "metadata": {},
            "outputs": [],
            "source": "%load_ext sql"
        },
        {
            "cell_type": "code",
            "execution_count": 25,
            "metadata": {},
            "outputs": [],
            "source": "# Remember the connection string is of the format:\n# %sql ibm_db_sa://my-username:my-password@my-hostname:my-port/my-db-name\n# Enter the connection string for your Db2 on Cloud database instance below\n# i.e. copy after db2:// from the URI string in Service Credentials of your Db2 instance. Remove the double quotes at the end.\n%sql ibm_db_sa://username:password@host:50000/BLUDB"
        },
        {
            "cell_type": "code",
            "execution_count": 12,
            "metadata": {},
            "outputs": [],
            "source": "import pandas"
        },
        {
            "cell_type": "code",
            "execution_count": 19,
            "metadata": {},
            "outputs": [],
            "source": "chicago_data = pandas.read_csv('https://data.cityofchicago.org/resource/jcxq-k9xf.csv')"
        },
        {
            "cell_type": "markdown",
            "metadata": {},
            "source": "Creating a table on the IBM-DB2 database, using downloaded csv file. (syntax: --persist)"
        },
        {
            "cell_type": "code",
            "execution_count": 42,
            "metadata": {},
            "outputs": [
                {
                    "name": "stdout",
                    "output_type": "stream",
                    "text": " * ibm_db_sa://gwn73718:***@dashdb-txn-sbox-yp-dal09-10.services.dal.bluemix.net:50000/BLUDB\n"
                },
                {
                    "data": {
                        "text/plain": "'Persisted chicago_data'"
                    },
                    "execution_count": 42,
                    "metadata": {},
                    "output_type": "execute_result"
                }
            ],
            "source": "%sql --persist chicago_data"
        },
        {
            "cell_type": "markdown",
            "metadata": {},
            "source": "Querying the dataset"
        },
        {
            "cell_type": "code",
            "execution_count": 43,
            "metadata": {},
            "outputs": [
                {
                    "name": "stdout",
                    "output_type": "stream",
                    "text": " * ibm_db_sa://gwn73718:***@dashdb-txn-sbox-yp-dal09-10.services.dal.bluemix.net:50000/BLUDB\nDone.\n"
                },
                {
                    "data": {
                        "text/html": "<table>\n    <tr>\n        <th>index</th>\n        <th>ca</th>\n        <th>community_area_name</th>\n        <th>percent_of_housing_crowded</th>\n        <th>percent_households_below_poverty</th>\n        <th>percent_aged_16_unemployed</th>\n        <th>percent_aged_25_without_high_school_diploma</th>\n        <th>percent_aged_under_18_or_over_64</th>\n        <th>per_capita_income_</th>\n        <th>hardship_index</th>\n    </tr>\n    <tr>\n        <td>0</td>\n        <td>1.0</td>\n        <td>Rogers Park</td>\n        <td>7.7</td>\n        <td>23.6</td>\n        <td>8.7</td>\n        <td>18.2</td>\n        <td>27.5</td>\n        <td>23939</td>\n        <td>39.0</td>\n    </tr>\n    <tr>\n        <td>1</td>\n        <td>2.0</td>\n        <td>West Ridge</td>\n        <td>7.8</td>\n        <td>17.2</td>\n        <td>8.8</td>\n        <td>20.8</td>\n        <td>38.5</td>\n        <td>23040</td>\n        <td>46.0</td>\n    </tr>\n    <tr>\n        <td>2</td>\n        <td>3.0</td>\n        <td>Uptown</td>\n        <td>3.8</td>\n        <td>24.0</td>\n        <td>8.9</td>\n        <td>11.8</td>\n        <td>22.2</td>\n        <td>35787</td>\n        <td>20.0</td>\n    </tr>\n    <tr>\n        <td>3</td>\n        <td>4.0</td>\n        <td>Lincoln Square</td>\n        <td>3.4</td>\n        <td>10.9</td>\n        <td>8.2</td>\n        <td>13.4</td>\n        <td>25.5</td>\n        <td>37524</td>\n        <td>17.0</td>\n    </tr>\n    <tr>\n        <td>4</td>\n        <td>5.0</td>\n        <td>North Center</td>\n        <td>0.3</td>\n        <td>7.5</td>\n        <td>5.2</td>\n        <td>4.5</td>\n        <td>26.2</td>\n        <td>57123</td>\n        <td>6.0</td>\n    </tr>\n</table>",
                        "text/plain": "[(0, 1.0, 'Rogers Park', 7.7, 23.6, 8.7, 18.2, 27.5, 23939, 39.0),\n (1, 2.0, 'West Ridge', 7.8, 17.2, 8.8, 20.8, 38.5, 23040, 46.0),\n (2, 3.0, 'Uptown', 3.8, 24.0, 8.9, 11.8, 22.2, 35787, 20.0),\n (3, 4.0, 'Lincoln Square', 3.4, 10.9, 8.2, 13.4, 25.5, 37524, 17.0),\n (4, 5.0, 'North Center', 0.3, 7.5, 5.2, 4.5, 26.2, 57123, 6.0)]"
                    },
                    "execution_count": 43,
                    "metadata": {},
                    "output_type": "execute_result"
                }
            ],
            "source": "%sql SELECT * FROM chicago_data limit 5;"
        },
        {
            "cell_type": "code",
            "execution_count": 51,
            "metadata": {},
            "outputs": [
                {
                    "name": "stdout",
                    "output_type": "stream",
                    "text": " * ibm_db_sa://gwn73718:***@dashdb-txn-sbox-yp-dal09-10.services.dal.bluemix.net:50000/BLUDB\nDone.\n"
                },
                {
                    "data": {
                        "text/html": "<table>\n    <tr>\n        <th>Total rows</th>\n    </tr>\n    <tr>\n        <td>78</td>\n    </tr>\n</table>",
                        "text/plain": "[(Decimal('78'),)]"
                    },
                    "execution_count": 51,
                    "metadata": {},
                    "output_type": "execute_result"
                }
            ],
            "source": "#Number of rows in the dataset\n\n%sql SELECT COUNT (*) as \"Total rows\" FROM chicago_data; "
        },
        {
            "cell_type": "code",
            "execution_count": 53,
            "metadata": {},
            "outputs": [
                {
                    "name": "stdout",
                    "output_type": "stream",
                    "text": " * ibm_db_sa://gwn73718:***@dashdb-txn-sbox-yp-dal09-10.services.dal.bluemix.net:50000/BLUDB\nDone.\n"
                },
                {
                    "data": {
                        "text/html": "<table>\n    <tr>\n        <th>H_index &gt; 50</th>\n    </tr>\n    <tr>\n        <td>38</td>\n    </tr>\n</table>",
                        "text/plain": "[(Decimal('38'),)]"
                    },
                    "execution_count": 53,
                    "metadata": {},
                    "output_type": "execute_result"
                }
            ],
            "source": "# Community areas in Chicago with hardship index > 50.0\n\n%sql SELECT COUNT (*) AS \"H_index > 50\" FROM chicago_data WHERE hardship_index > 50;"
        },
        {
            "cell_type": "code",
            "execution_count": 56,
            "metadata": {
                "scrolled": true
            },
            "outputs": [
                {
                    "name": "stdout",
                    "output_type": "stream",
                    "text": " * ibm_db_sa://gwn73718:***@dashdb-txn-sbox-yp-dal09-10.services.dal.bluemix.net:50000/BLUDB\nDone.\n"
                },
                {
                    "data": {
                        "text/html": "<table>\n    <tr>\n        <th>Max_H_index</th>\n    </tr>\n    <tr>\n        <td>98.0</td>\n    </tr>\n</table>",
                        "text/plain": "[(98.0,)]"
                    },
                    "execution_count": 56,
                    "metadata": {},
                    "output_type": "execute_result"
                }
            ],
            "source": "# maximum value of hardship index\n\n%sql SELECT MAX(hardship_index) AS \"Max_H_index\" FROM chicago_data;"
        },
        {
            "cell_type": "code",
            "execution_count": 61,
            "metadata": {},
            "outputs": [
                {
                    "name": "stdout",
                    "output_type": "stream",
                    "text": " * ibm_db_sa://gwn73718:***@dashdb-txn-sbox-yp-dal09-10.services.dal.bluemix.net:50000/BLUDB\nDone.\n"
                },
                {
                    "data": {
                        "text/html": "<table>\n    <tr>\n        <th>community_area_name</th>\n    </tr>\n    <tr>\n        <td>Riverdale</td>\n    </tr>\n</table>",
                        "text/plain": "[('Riverdale',)]"
                    },
                    "execution_count": 61,
                    "metadata": {},
                    "output_type": "execute_result"
                }
            ],
            "source": "%%sql\nSELECT community_area_name FROM chicago_data\nWHERE hardship_index = (SELECT MAX(hardship_index)FROM chicago_data);"
        },
        {
            "cell_type": "code",
            "execution_count": 62,
            "metadata": {},
            "outputs": [
                {
                    "name": "stdout",
                    "output_type": "stream",
                    "text": " * ibm_db_sa://gwn73718:***@dashdb-txn-sbox-yp-dal09-10.services.dal.bluemix.net:50000/BLUDB\nDone.\n"
                },
                {
                    "data": {
                        "text/html": "<table>\n    <tr>\n        <th>community_area_name</th>\n    </tr>\n    <tr>\n        <td>Lake View</td>\n    </tr>\n    <tr>\n        <td>Lincoln Park</td>\n    </tr>\n    <tr>\n        <td>Near North Side</td>\n    </tr>\n    <tr>\n        <td>Loop</td>\n    </tr>\n</table>",
                        "text/plain": "[('Lake View',), ('Lincoln Park',), ('Near North Side',), ('Loop',)]"
                    },
                    "execution_count": 62,
                    "metadata": {},
                    "output_type": "execute_result"
                }
            ],
            "source": "#community with PCI > 60k\n\n%sql SELECT community_area_name FROM chicago_data WHERE per_capita_income_ > 60000 "
        },
        {
            "cell_type": "code",
            "execution_count": 71,
            "metadata": {},
            "outputs": [
                {
                    "name": "stdout",
                    "output_type": "stream",
                    "text": " * ibm_db_sa://gwn73718:***@dashdb-txn-sbox-yp-dal09-10.services.dal.bluemix.net:50000/BLUDB\nDone.\n"
                }
            ],
            "source": "# plot between PCI and H_index\n\nPlot = %sql SELECT per_capita_income_ , hardship_index FROM chicago_data"
        },
        {
            "cell_type": "code",
            "execution_count": 80,
            "metadata": {},
            "outputs": [],
            "source": "import matplotlib.pyplot as plt\nimport pandas as pd"
        },
        {
            "cell_type": "code",
            "execution_count": 88,
            "metadata": {},
            "outputs": [],
            "source": "plot = Plot.DataFrame()\n\nY = plot['per_capita_income_']\nX = plot['hardship_index']"
        },
        {
            "cell_type": "code",
            "execution_count": 96,
            "metadata": {},
            "outputs": [
                {
                    "data": {
                        "text/plain": "Text(0, 0.5, 'per_capita_income_')"
                    },
                    "execution_count": 96,
                    "metadata": {},
                    "output_type": "execute_result"
                },
                {
                    "data": {
                        "image/png": "[encoded data removed]",
                        "text/plain": "<Figure size 432x288 with 1 Axes>"
                    },
                    "metadata": {
                        "needs_background": "light"
                    },
                    "output_type": "display_data"
                }
            ],
            "source": "plt.scatter(x=X, y=Y, marker='o');\nplt.xlabel('hardship_index')\nplt.ylabel('per_capita_income_')"
        },
        {
            "cell_type": "markdown",
            "metadata": {},
            "source": "As per capital income increases, the hardship_index reduces also."
        }
    ],
    "metadata": {
        "kernelspec": {
            "display_name": "Python 3.7",
            "language": "python",
            "name": "python3"
        },
        "language_info": {
            "codemirror_mode": {
                "name": "ipython",
                "version": 3
            },
            "file_extension": ".py",
            "mimetype": "text/x-python",
            "name": "python",
            "nbconvert_exporter": "python",
            "pygments_lexer": "ipython3",
            "version": "3.7.10"
        }
    },
    "nbformat": 4,
    "nbformat_minor": 1
}