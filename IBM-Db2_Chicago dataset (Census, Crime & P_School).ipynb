{
    "cells": [
        {
            "cell_type": "code",
            "execution_count": 2,
            "metadata": {},
            "outputs": [],
            "source": "import pandas as pd\nimport matplotlib as plt"
        },
        {
            "cell_type": "code",
            "execution_count": 4,
            "metadata": {
                "scrolled": true
            },
            "outputs": [
                {
                    "name": "stdout",
                    "output_type": "stream",
                    "text": "/opt/conda/envs/Python-3.7-main/lib/python3.7/site-packages/secretstorage/dhcrypto.py:16: CryptographyDeprecationWarning: int_from_bytes is deprecated, use int.from_bytes instead\n  from cryptography.utils import int_from_bytes\n/opt/conda/envs/Python-3.7-main/lib/python3.7/site-packages/secretstorage/util.py:25: CryptographyDeprecationWarning: int_from_bytes is deprecated, use int.from_bytes instead\n  from cryptography.utils import int_from_bytes\nCollecting sqlalchemy==1.3.9\n  Downloading SQLAlchemy-1.3.9.tar.gz (6.0 MB)\n\u001b[K     |\u2588\u2588\u2588\u2588\u2588\u2588\u2588\u2588\u2588\u2588\u2588\u2588\u2588\u2588\u2588\u2588\u2588\u2588\u2588\u2588\u2588\u2588\u2588\u2588\u2588\u2588\u2588\u2588\u2588\u2588\u2588\u2588| 6.0 MB 9.9 MB/s eta 0:00:01\n\u001b[?25hBuilding wheels for collected packages: sqlalchemy\n  Building wheel for sqlalchemy (setup.py) ... \u001b[?25ldone\n\u001b[?25h  Created wheel for sqlalchemy: filename=SQLAlchemy-1.3.9-cp37-cp37m-linux_x86_64.whl size=1207761 sha256=cf1975db901e7a95e31aec093656070eaebee76ed39a4abb1bad465a15b1a311\n  Stored in directory: /tmp/wsuser/.cache/pip/wheels/03/71/13/010faf12246f72dc76b4150e6e599d13a85b4435e06fb9e51f\nSuccessfully built sqlalchemy\nInstalling collected packages: sqlalchemy\n  Attempting uninstall: sqlalchemy\n    Found existing installation: SQLAlchemy 1.3.17\n    Uninstalling SQLAlchemy-1.3.17:\n      Successfully uninstalled SQLAlchemy-1.3.17\nSuccessfully installed sqlalchemy-1.3.9\n/opt/conda/envs/Python-3.7-main/lib/python3.7/site-packages/secretstorage/dhcrypto.py:16: CryptographyDeprecationWarning: int_from_bytes is deprecated, use int.from_bytes instead\n  from cryptography.utils import int_from_bytes\n/opt/conda/envs/Python-3.7-main/lib/python3.7/site-packages/secretstorage/util.py:25: CryptographyDeprecationWarning: int_from_bytes is deprecated, use int.from_bytes instead\n  from cryptography.utils import int_from_bytes\nRequirement already satisfied: ibm_db_sa in /opt/conda/envs/Python-3.7-main/lib/python3.7/site-packages (0.3.5)\nRequirement already satisfied: ibm-db>=2.0.0 in /opt/conda/envs/Python-3.7-main/lib/python3.7/site-packages (from ibm_db_sa) (3.0.2)\nRequirement already satisfied: sqlalchemy>=0.7.3 in /opt/conda/envs/Python-3.7-main/lib/python3.7/site-packages (from ibm_db_sa) (1.3.9)\n/opt/conda/envs/Python-3.7-main/lib/python3.7/site-packages/secretstorage/dhcrypto.py:16: CryptographyDeprecationWarning: int_from_bytes is deprecated, use int.from_bytes instead\n  from cryptography.utils import int_from_bytes\n/opt/conda/envs/Python-3.7-main/lib/python3.7/site-packages/secretstorage/util.py:25: CryptographyDeprecationWarning: int_from_bytes is deprecated, use int.from_bytes instead\n  from cryptography.utils import int_from_bytes\nCollecting ipython-sql\n  Downloading ipython_sql-0.4.0-py3-none-any.whl (19 kB)\nCollecting extension\n  Downloading extension-1.0.0-py3-none-any.whl (929 kB)\n\u001b[K     |\u2588\u2588\u2588\u2588\u2588\u2588\u2588\u2588\u2588\u2588\u2588\u2588\u2588\u2588\u2588\u2588\u2588\u2588\u2588\u2588\u2588\u2588\u2588\u2588\u2588\u2588\u2588\u2588\u2588\u2588\u2588\u2588| 929 kB 21.5 MB/s eta 0:00:01\n\u001b[?25hCollecting prettytable<1\n  Downloading prettytable-0.7.2.tar.bz2 (21 kB)\nRequirement already satisfied: ipython>=1.0 in /opt/conda/envs/Python-3.7-main/lib/python3.7/site-packages (from ipython-sql) (7.15.0)\nRequirement already satisfied: sqlalchemy>=0.6.7 in /opt/conda/envs/Python-3.7-main/lib/python3.7/site-packages (from ipython-sql) (1.3.9)\nRequirement already satisfied: six in /opt/conda/envs/Python-3.7-main/lib/python3.7/site-packages (from ipython-sql) (1.15.0)\nRequirement already satisfied: ipython-genutils>=0.1.0 in /opt/conda/envs/Python-3.7-main/lib/python3.7/site-packages (from ipython-sql) (0.2.0)\nCollecting sqlparse\n  Downloading sqlparse-0.4.1-py3-none-any.whl (42 kB)\n\u001b[K     |\u2588\u2588\u2588\u2588\u2588\u2588\u2588\u2588\u2588\u2588\u2588\u2588\u2588\u2588\u2588\u2588\u2588\u2588\u2588\u2588\u2588\u2588\u2588\u2588\u2588\u2588\u2588\u2588\u2588\u2588\u2588\u2588| 42 kB 3.2 MB/s  eta 0:00:01\n\u001b[?25hCollecting flask>=1.0.2\n  Downloading Flask-2.0.1-py3-none-any.whl (94 kB)\n\u001b[K     |\u2588\u2588\u2588\u2588\u2588\u2588\u2588\u2588\u2588\u2588\u2588\u2588\u2588\u2588\u2588\u2588\u2588\u2588\u2588\u2588\u2588\u2588\u2588\u2588\u2588\u2588\u2588\u2588\u2588\u2588\u2588\u2588| 94 kB 12.4 MB/s eta 0:00:01\n\u001b[?25hRequirement already satisfied: markdown>=3.0.1 in /opt/conda/envs/Python-3.7-main/lib/python3.7/site-packages (from extension) (3.1.1)\nRequirement already satisfied: jedi>=0.10 in /opt/conda/envs/Python-3.7-main/lib/python3.7/site-packages (from ipython>=1.0->ipython-sql) (0.17.1)\nRequirement already satisfied: pickleshare in /opt/conda/envs/Python-3.7-main/lib/python3.7/site-packages (from ipython>=1.0->ipython-sql) (0.7.5)\nRequirement already satisfied: setuptools>=18.5 in /opt/conda/envs/Python-3.7-main/lib/python3.7/site-packages (from ipython>=1.0->ipython-sql) (47.3.1.post20200622)\nRequirement already satisfied: prompt-toolkit!=3.0.0,!=3.0.1,<3.1.0,>=2.0.0 in /opt/conda/envs/Python-3.7-main/lib/python3.7/site-packages (from ipython>=1.0->ipython-sql) (3.0.5)\nRequirement already satisfied: pygments in /opt/conda/envs/Python-3.7-main/lib/python3.7/site-packages (from ipython>=1.0->ipython-sql) (2.6.1)\nRequirement already satisfied: pexpect; sys_platform != \"win32\" in /opt/conda/envs/Python-3.7-main/lib/python3.7/site-packages (from ipython>=1.0->ipython-sql) (4.8.0)\nRequirement already satisfied: backcall in /opt/conda/envs/Python-3.7-main/lib/python3.7/site-packages (from ipython>=1.0->ipython-sql) (0.2.0)\nRequirement already satisfied: decorator in /opt/conda/envs/Python-3.7-main/lib/python3.7/site-packages (from ipython>=1.0->ipython-sql) (4.4.2)\nRequirement already satisfied: traitlets>=4.2 in /opt/conda/envs/Python-3.7-main/lib/python3.7/site-packages (from ipython>=1.0->ipython-sql) (4.3.3)\nCollecting Jinja2>=3.0\n  Downloading Jinja2-3.0.1-py3-none-any.whl (133 kB)\n\u001b[K     |\u2588\u2588\u2588\u2588\u2588\u2588\u2588\u2588\u2588\u2588\u2588\u2588\u2588\u2588\u2588\u2588\u2588\u2588\u2588\u2588\u2588\u2588\u2588\u2588\u2588\u2588\u2588\u2588\u2588\u2588\u2588\u2588| 133 kB 79.8 MB/s eta 0:00:01\n\u001b[?25hRequirement already satisfied: click>=7.1.2 in /opt/conda/envs/Python-3.7-main/lib/python3.7/site-packages (from flask>=1.0.2->extension) (7.1.2)\nCollecting Werkzeug>=2.0\n  Downloading Werkzeug-2.0.1-py3-none-any.whl (288 kB)\n\u001b[K     |\u2588\u2588\u2588\u2588\u2588\u2588\u2588\u2588\u2588\u2588\u2588\u2588\u2588\u2588\u2588\u2588\u2588\u2588\u2588\u2588\u2588\u2588\u2588\u2588\u2588\u2588\u2588\u2588\u2588\u2588\u2588\u2588| 288 kB 76.0 MB/s eta 0:00:01\n\u001b[?25hCollecting itsdangerous>=2.0\n  Downloading itsdangerous-2.0.1-py3-none-any.whl (18 kB)\nRequirement already satisfied: parso<0.8.0,>=0.7.0 in /opt/conda/envs/Python-3.7-main/lib/python3.7/site-packages (from jedi>=0.10->ipython>=1.0->ipython-sql) (0.7.0)\nRequirement already satisfied: wcwidth in /opt/conda/envs/Python-3.7-main/lib/python3.7/site-packages (from prompt-toolkit!=3.0.0,!=3.0.1,<3.1.0,>=2.0.0->ipython>=1.0->ipython-sql) (0.2.4)\nRequirement already satisfied: ptyprocess>=0.5 in /opt/conda/envs/Python-3.7-main/lib/python3.7/site-packages (from pexpect; sys_platform != \"win32\"->ipython>=1.0->ipython-sql) (0.6.0)\nCollecting MarkupSafe>=2.0\n  Downloading MarkupSafe-2.0.1-cp37-cp37m-manylinux2010_x86_64.whl (31 kB)\nBuilding wheels for collected packages: prettytable\n  Building wheel for prettytable (setup.py) ... \u001b[?25ldone\n\u001b[?25h  Created wheel for prettytable: filename=prettytable-0.7.2-py3-none-any.whl size=13698 sha256=7554a098ebac16f20133a817723314c90b966050c6538effe9cef57d186d451a\n  Stored in directory: /tmp/wsuser/.cache/pip/wheels/8c/76/0b/eb9eb3da7e2335e3577e3f96a0ae9f74f206e26457bd1a2bc8\nSuccessfully built prettytable\n\u001b[31mERROR: jupyterlab 2.2.6 has requirement jupyterlab_server<2.0,>=1.1.5, but you'll have jupyterlab-server 1.1.0 which is incompatible.\u001b[0m\nInstalling collected packages: prettytable, sqlparse, ipython-sql, MarkupSafe, Jinja2, Werkzeug, itsdangerous, flask, extension\n  Attempting uninstall: MarkupSafe\n    Found existing installation: MarkupSafe 1.1.1\n    Uninstalling MarkupSafe-1.1.1:\n      Successfully uninstalled MarkupSafe-1.1.1\n  Attempting uninstall: Jinja2\n    Found existing installation: Jinja2 2.11.3\n    Uninstalling Jinja2-2.11.3:\n      Successfully uninstalled Jinja2-2.11.3\n  Attempting uninstall: Werkzeug\n    Found existing installation: Werkzeug 1.0.1\n    Uninstalling Werkzeug-1.0.1:\n      Successfully uninstalled Werkzeug-1.0.1\nSuccessfully installed Jinja2-3.0.1 MarkupSafe-2.0.1 Werkzeug-2.0.1 extension-1.0.0 flask-2.0.1 ipython-sql-0.4.0 itsdangerous-2.0.1 prettytable-0.7.2 sqlparse-0.4.1\n"
                }
            ],
            "source": "!pip install sqlalchemy==1.3.9\n!pip install ibm_db_sa\n!pip install ipython-sql extension"
        },
        {
            "cell_type": "code",
            "execution_count": 5,
            "metadata": {},
            "outputs": [],
            "source": "%load_ext sql"
        },
        {
            "cell_type": "code",
            "execution_count": 7,
            "metadata": {},
            "outputs": [],
            "source": "%sql ibm_db_sa://username:password@host:50000/BLUDB"
        },
        {
            "cell_type": "markdown",
            "metadata": {},
            "source": "    QUERY"
        },
        {
            "cell_type": "markdown",
            "metadata": {},
            "source": "Find the total number of crimes recorded in the CRIME table"
        },
        {
            "cell_type": "code",
            "execution_count": 10,
            "metadata": {},
            "outputs": [
                {
                    "name": "stdout",
                    "output_type": "stream",
                    "text": " * ibm_db_sa://gwn73718:***@dashdb-txn-sbox-yp-dal09-10.services.dal.bluemix.net:50000/BLUDB\nDone.\n"
                },
                {
                    "data": {
                        "text/html": "<table>\n    <tr>\n        <th>TOTAL RECORDED CRIMES</th>\n    </tr>\n    <tr>\n        <td>533</td>\n    </tr>\n</table>",
                        "text/plain": "[(Decimal('533'),)]"
                    },
                    "execution_count": 10,
                    "metadata": {},
                    "output_type": "execute_result"
                }
            ],
            "source": "%%sql\n\nSELECT COUNT (*) AS \"TOTAL RECORDED CRIMES\" FROM CHICAGO_CRIME_DATA"
        },
        {
            "cell_type": "markdown",
            "metadata": {},
            "source": "List community areas with per capita income less than 11000"
        },
        {
            "cell_type": "code",
            "execution_count": 11,
            "metadata": {},
            "outputs": [
                {
                    "name": "stdout",
                    "output_type": "stream",
                    "text": " * ibm_db_sa://gwn73718:***@dashdb-txn-sbox-yp-dal09-10.services.dal.bluemix.net:50000/BLUDB\nDone.\n"
                },
                {
                    "data": {
                        "text/html": "<table>\n    <tr>\n        <th>community_area_name</th>\n    </tr>\n    <tr>\n        <td>West Garfield Park</td>\n    </tr>\n    <tr>\n        <td>South Lawndale</td>\n    </tr>\n    <tr>\n        <td>Fuller Park</td>\n    </tr>\n    <tr>\n        <td>Riverdale</td>\n    </tr>\n</table>",
                        "text/plain": "[('West Garfield Park',),\n ('South Lawndale',),\n ('Fuller Park',),\n ('Riverdale',)]"
                    },
                    "execution_count": 11,
                    "metadata": {},
                    "output_type": "execute_result"
                }
            ],
            "source": "%%sql\n\nSELECT COMMUNITY_AREA_NAME FROM CENSUS_DATA \nWHERE PER_CAPITA_INCOME < 11000"
        },
        {
            "cell_type": "markdown",
            "metadata": {},
            "source": "All case numbers for crimes involving minors"
        },
        {
            "cell_type": "code",
            "execution_count": 17,
            "metadata": {
                "scrolled": false
            },
            "outputs": [
                {
                    "name": "stdout",
                    "output_type": "stream",
                    "text": " * ibm_db_sa://gwn73718:***@dashdb-txn-sbox-yp-dal09-10.services.dal.bluemix.net:50000/BLUDB\nDone.\n"
                },
                {
                    "data": {
                        "text/html": "<table>\n    <tr>\n        <th>case_number</th>\n    </tr>\n    <tr>\n        <td>HL266884</td>\n    </tr>\n    <tr>\n        <td>HK238408</td>\n    </tr>\n</table>",
                        "text/plain": "[('HL266884',), ('HK238408',)]"
                    },
                    "execution_count": 17,
                    "metadata": {},
                    "output_type": "execute_result"
                }
            ],
            "source": "%%sql\n\nSELECT CASE_NUMBER FROM CHICAGO_CRIME_DATA\nWHERE DESCRIPTION LIKE '%MINOR%';"
        },
        {
            "cell_type": "markdown",
            "metadata": {},
            "source": "All kidnapping crimes involving a child"
        },
        {
            "cell_type": "code",
            "execution_count": 36,
            "metadata": {},
            "outputs": [
                {
                    "name": "stdout",
                    "output_type": "stream",
                    "text": " * ibm_db_sa://gwn73718:***@dashdb-txn-sbox-yp-dal09-10.services.dal.bluemix.net:50000/BLUDB\nDone.\n"
                },
                {
                    "data": {
                        "text/html": "<table>\n    <tr>\n        <th>id</th>\n        <th>case_number</th>\n        <th>DATE</th>\n        <th>block</th>\n        <th>iucr</th>\n        <th>primary_type</th>\n        <th>description</th>\n        <th>location_description</th>\n        <th>arrest</th>\n        <th>domestic</th>\n        <th>beat</th>\n        <th>district</th>\n        <th>ward</th>\n        <th>community_area_number</th>\n        <th>fbicode</th>\n        <th>x_coordinate</th>\n        <th>y_coordinate</th>\n        <th>YEAR</th>\n        <th>latitude</th>\n        <th>longitude</th>\n        <th>location</th>\n    </tr>\n    <tr>\n        <td>5276766</td>\n        <td>HN144152</td>\n        <td>2007-01-26</td>\n        <td>050XX W VAN BUREN ST</td>\n        <td>1792</td>\n        <td>KIDNAPPING</td>\n        <td>CHILD ABDUCTION/STRANGER</td>\n        <td>STREET</td>\n        <td>FALSE</td>\n        <td>FALSE</td>\n        <td>1533</td>\n        <td>15</td>\n        <td>29</td>\n        <td>25</td>\n        <td>20</td>\n        <td>1143050</td>\n        <td>1897546</td>\n        <td>2007</td>\n        <td>41.87490841</td>\n        <td>-87.75024931</td>\n        <td>(41.874908413, -87.750249307)</td>\n    </tr>\n</table>",
                        "text/plain": "[(5276766, 'HN144152', datetime.date(2007, 1, 26), '050XX W VAN BUREN ST', '1792', 'KIDNAPPING', 'CHILD ABDUCTION/STRANGER', 'STREET', 'FALSE', 'FALSE', 1533, 15, 29, 25, '20', 1143050, 1897546, 2007, Decimal('41.87490841'), Decimal('-87.75024931'), '(41.874908413, -87.750249307)')]"
                    },
                    "execution_count": 36,
                    "metadata": {},
                    "output_type": "execute_result"
                }
            ],
            "source": "%%sql\n\nSELECT * FROM CHICAGO_CRIME_DATA\nWHERE PRIMARY_TYPE = 'KIDNAPPING' AND DESCRIPTION LIKE '%CHILD%'"
        },
        {
            "cell_type": "markdown",
            "metadata": {},
            "source": "Crimes recorded at schools"
        },
        {
            "cell_type": "code",
            "execution_count": 42,
            "metadata": {},
            "outputs": [
                {
                    "name": "stdout",
                    "output_type": "stream",
                    "text": " * ibm_db_sa://gwn73718:***@dashdb-txn-sbox-yp-dal09-10.services.dal.bluemix.net:50000/BLUDB\nDone.\n"
                },
                {
                    "data": {
                        "text/html": "<table>\n    <tr>\n        <th>primary_type</th>\n    </tr>\n    <tr>\n        <td>BATTERY</td>\n    </tr>\n    <tr>\n        <td>BATTERY</td>\n    </tr>\n    <tr>\n        <td>BATTERY</td>\n    </tr>\n    <tr>\n        <td>BATTERY</td>\n    </tr>\n    <tr>\n        <td>BATTERY</td>\n    </tr>\n    <tr>\n        <td>CRIMINAL DAMAGE</td>\n    </tr>\n    <tr>\n        <td>NARCOTICS</td>\n    </tr>\n    <tr>\n        <td>NARCOTICS</td>\n    </tr>\n    <tr>\n        <td>ASSAULT</td>\n    </tr>\n    <tr>\n        <td>CRIMINAL TRESPASS</td>\n    </tr>\n    <tr>\n        <td>PUBLIC PEACE VIOLATION</td>\n    </tr>\n    <tr>\n        <td>PUBLIC PEACE VIOLATION</td>\n    </tr>\n</table>",
                        "text/plain": "[('BATTERY',),\n ('BATTERY',),\n ('BATTERY',),\n ('BATTERY',),\n ('BATTERY',),\n ('CRIMINAL DAMAGE',),\n ('NARCOTICS',),\n ('NARCOTICS',),\n ('ASSAULT',),\n ('CRIMINAL TRESPASS',),\n ('PUBLIC PEACE VIOLATION',),\n ('PUBLIC PEACE VIOLATION',)]"
                    },
                    "execution_count": 42,
                    "metadata": {},
                    "output_type": "execute_result"
                }
            ],
            "source": "%%sql\n\nSELECT primary_type FROM CHICAGO_CRIME_DATA\nWHERE location_description like '%SCH%'"
        },
        {
            "cell_type": "markdown",
            "metadata": {},
            "source": "Average safety score for all types of schools"
        },
        {
            "cell_type": "code",
            "execution_count": 113,
            "metadata": {},
            "outputs": [
                {
                    "name": "stdout",
                    "output_type": "stream",
                    "text": " * ibm_db_sa://gwn73718:***@dashdb-txn-sbox-yp-dal09-10.services.dal.bluemix.net:50000/BLUDB\nDone.\n"
                },
                {
                    "data": {
                        "text/html": "<table>\n    <tr>\n        <th>Elementary, Middle, or High School</th>\n        <th>avg_safety_score</th>\n    </tr>\n    <tr>\n        <td>MS</td>\n        <td>48.000000</td>\n    </tr>\n    <tr>\n        <td>ES</td>\n        <td>49.520383</td>\n    </tr>\n    <tr>\n        <td>HS</td>\n        <td>49.623529</td>\n    </tr>\n</table>",
                        "text/plain": "[('MS', Decimal('48.000000')),\n ('ES', Decimal('49.520383')),\n ('HS', Decimal('49.623529'))]"
                    },
                    "execution_count": 113,
                    "metadata": {},
                    "output_type": "execute_result"
                }
            ],
            "source": "%%sql\n\nSELECT \"Elementary, Middle, or High School\", AVG(SAFETY_SCORE) AS \"AVG_SAFETY_SCORE\"\nFROM CHICAGO_PUBLIC_SCHOOLS\nGROUP BY \"Elementary, Middle, or High School\"\nORDER BY AVG_SAFETY_SCORE;"
        },
        {
            "cell_type": "markdown",
            "metadata": {},
            "source": "5 community areas with highest % of households below poverty line"
        },
        {
            "cell_type": "code",
            "execution_count": 80,
            "metadata": {},
            "outputs": [
                {
                    "name": "stdout",
                    "output_type": "stream",
                    "text": " * ibm_db_sa://gwn73718:***@dashdb-txn-sbox-yp-dal09-10.services.dal.bluemix.net:50000/BLUDB\nDone.\n"
                },
                {
                    "data": {
                        "text/html": "<table>\n    <tr>\n        <th>community_area_name</th>\n    </tr>\n    <tr>\n        <td>Riverdale</td>\n    </tr>\n    <tr>\n        <td>Fuller Park</td>\n    </tr>\n    <tr>\n        <td>Englewood</td>\n    </tr>\n    <tr>\n        <td>North Lawndale</td>\n    </tr>\n    <tr>\n        <td>East Garfield Park</td>\n    </tr>\n</table>",
                        "text/plain": "[('Riverdale',),\n ('Fuller Park',),\n ('Englewood',),\n ('North Lawndale',),\n ('East Garfield Park',)]"
                    },
                    "execution_count": 80,
                    "metadata": {},
                    "output_type": "execute_result"
                }
            ],
            "source": "%%sql\n\nSELECT COMMUNITY_AREA_NAME FROM CENSUS_DATA\nORDER BY PERCENT_HOUSEHOLDS_BELOW_POVERTY DESC LIMIT 5"
        },
        {
            "cell_type": "markdown",
            "metadata": {},
            "source": "Most crime prone community area"
        },
        {
            "cell_type": "code",
            "execution_count": 11,
            "metadata": {},
            "outputs": [
                {
                    "name": "stdout",
                    "output_type": "stream",
                    "text": " * ibm_db_sa://gwn73718:***@dashdb-txn-sbox-yp-dal09-10.services.dal.bluemix.net:50000/BLUDB\nDone.\n"
                },
                {
                    "data": {
                        "text/html": "<table>\n    <tr>\n        <th>community_area_number</th>\n        <th>number_of_cases</th>\n    </tr>\n    <tr>\n        <td>25</td>\n        <td>43</td>\n    </tr>\n    <tr>\n        <td>None</td>\n        <td>43</td>\n    </tr>\n    <tr>\n        <td>23</td>\n        <td>22</td>\n    </tr>\n    <tr>\n        <td>68</td>\n        <td>21</td>\n    </tr>\n    <tr>\n        <td>28</td>\n        <td>16</td>\n    </tr>\n    <tr>\n        <td>29</td>\n        <td>16</td>\n    </tr>\n</table>",
                        "text/plain": "[(25, Decimal('43')),\n (None, Decimal('43')),\n (23, Decimal('22')),\n (68, Decimal('21')),\n (28, Decimal('16')),\n (29, Decimal('16'))]"
                    },
                    "execution_count": 11,
                    "metadata": {},
                    "output_type": "execute_result"
                }
            ],
            "source": "%%sql\n\nSELECT COMMUNITY_AREA_NUMBER, COUNT (*) AS \"NUMBER_OF_CASES\"\nFROM CHICAGO_CRIME_DATA\nGROUP BY COMMUNITY_AREA_NUMBER\nORDER BY NUMBER_OF_CASES DESC \nLIMIT 6"
        },
        {
            "cell_type": "markdown",
            "metadata": {},
            "source": "Using sub-query to find the name of the community area with highest hardship index"
        },
        {
            "cell_type": "code",
            "execution_count": 144,
            "metadata": {
                "scrolled": true
            },
            "outputs": [
                {
                    "name": "stdout",
                    "output_type": "stream",
                    "text": " * ibm_db_sa://gwn73718:***@dashdb-txn-sbox-yp-dal09-10.services.dal.bluemix.net:50000/BLUDB\nDone.\n"
                },
                {
                    "data": {
                        "text/html": "<table>\n    <tr>\n        <th>community_area_name</th>\n    </tr>\n    <tr>\n        <td>Riverdale</td>\n    </tr>\n</table>",
                        "text/plain": "[('Riverdale',)]"
                    },
                    "execution_count": 144,
                    "metadata": {},
                    "output_type": "execute_result"
                }
            ],
            "source": "%%sql\nSELECT COMMUNITY_AREA_NAME \nFROM CENSUS_DATA \nWHERE HARDSHIP_INDEX = (SELECT MAX(HARDSHIP_INDEX) FROM CENSUS_DATA)"
        },
        {
            "cell_type": "markdown",
            "metadata": {},
            "source": "Using sub-query to determine the Community Area Name with most number of crimes"
        },
        {
            "cell_type": "code",
            "execution_count": 12,
            "metadata": {},
            "outputs": [
                {
                    "name": "stdout",
                    "output_type": "stream",
                    "text": " * ibm_db_sa://gwn73718:***@dashdb-txn-sbox-yp-dal09-10.services.dal.bluemix.net:50000/BLUDB\nDone.\n"
                },
                {
                    "data": {
                        "text/html": "<table>\n    <tr>\n        <th>community_area_name</th>\n    </tr>\n    <tr>\n        <td>Austin</td>\n    </tr>\n</table>",
                        "text/plain": "[('Austin',)]"
                    },
                    "execution_count": 12,
                    "metadata": {},
                    "output_type": "execute_result"
                }
            ],
            "source": "%%sql\n\nSELECT COMMUNITY_AREA_NAME FROM CENSUS_DATA\nWHERE COMMUNITY_AREA_NUMBER = (\n    SELECT COMMUNITY_AREA_NUMBER \n    FROM CHICAGO_CRIME_DATA\n    GROUP BY COMMUNITY_AREA_NUMBER\n    ORDER BY COUNT (COMMUNITY_AREA_NUMBER) DESC\n    LIMIT 1)"
        }
    ],
    "metadata": {
        "kernelspec": {
            "display_name": "Python 3.7",
            "language": "python",
            "name": "python3"
        },
        "language_info": {
            "codemirror_mode": {
                "name": "ipython",
                "version": 3
            },
            "file_extension": ".py",
            "mimetype": "text/x-python",
            "name": "python",
            "nbconvert_exporter": "python",
            "pygments_lexer": "ipython3",
            "version": "3.7.10"
        }
    },
    "nbformat": 4,
    "nbformat_minor": 1
}