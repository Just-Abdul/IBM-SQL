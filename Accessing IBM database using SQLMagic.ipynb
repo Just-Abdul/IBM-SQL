{
    "cells": [
        {
            "cell_type": "code",
            "execution_count": null,
            "metadata": {},
            "outputs": [],
            "source": "# Installing necessary packages (ipython-sql extension, sqlalchemy and ibm_db_sa)\n\n!pip install ipython-sql extension\n!pip install sqlalchemy==1.3.9\n!pip install ibm_db_sa"
        },
        {
            "cell_type": "code",
            "execution_count": 17,
            "metadata": {},
            "outputs": [],
            "source": "%load_ext sql"
        },
        {
            "cell_type": "code",
            "execution_count": 18,
            "metadata": {},
            "outputs": [],
            "source": "%sql ibm_db_sa://Username:Password@Host:50000/BLUDB"
        },
        {
            "cell_type": "code",
            "execution_count": null,
            "metadata": {},
            "outputs": [],
            "source": "%sql CREATE TABLE INTERNATIONAL_STUDENT_TEST_SCORES(country VARCHAR(50), first_name VARCHAR(50), last_name VARCHAR(50), test_score INT);"
        },
        {
            "cell_type": "markdown",
            "metadata": {},
            "source": "%%sql at top of cell to indicate we want the entire cell to be treated as SQL."
        },
        {
            "cell_type": "code",
            "execution_count": 40,
            "metadata": {},
            "outputs": [
                {
                    "name": "stdout",
                    "output_type": "stream",
                    "text": " * ibm_db_sa://gwn73718:***@dashdb-txn-sbox-yp-dal09-10.services.dal.bluemix.net:50000/BLUDB\n99 rows affected.\n"
                },
                {
                    "data": {
                        "text/plain": "[]"
                    },
                    "execution_count": 40,
                    "metadata": {},
                    "output_type": "execute_result"
                }
            ],
            "source": "%%sql \n\nINSERT INTO INTERNATIONAL_STUDENT_TEST_SCORES(country, first_name, last_name, test_score) VALUES \n('Nigeria', 'Abdul', 'Hussein', 74), \n('Ghana', 'Celinda', 'Malkin', 51), \n('Ukraine', 'Guillermo', 'Furze', 53),\n('Greece', 'Aharon', 'Tunnow', 48),\n('Russia', 'Bail', 'Goodwin', 46),\n('Poland', 'Cole', 'Winteringham', 49),\n('Sweden', 'Emlyn', 'Erricker', 55),\n('Russia', 'Cathee', 'Sivewright', 49),\n('China', 'Barny', 'Ingerson', 57),\n('Uganda', 'Sharla', 'Papaccio', 55),\n('China', 'Stella', 'Youens', 51),\n('Poland', 'Julio', 'Buesden', 48),\n('United States', 'Tiffie', 'Cosely', 58),\n('Poland', 'Auroora', 'Stiffell', 45),\n('China', 'Clarita', 'Huet', 52),\n('Poland', 'Shannon', 'Goulden', 45),\n('Philippines', 'Emylee', 'Privost', 50),\n('France', 'Madelina', 'Burk', 49),\n('China', 'Saunderson', 'Root', 58),\n('Indonesia', 'Bo', 'Waring', 55),\n('China', 'Hollis', 'Domotor', 45),\n('Russia', 'Robbie', 'Collip', 46),\n('Philippines', 'Davon', 'Donisi', 46),\n('China', 'Cristabel', 'Radeliffe', 48),\n('China', 'Wallis', 'Bartleet', 58),\n('Moldova', 'Arleen', 'Stailey', 38),\n('Ireland', 'Mendel', 'Grumble', 58),\n('China', 'Sallyann', 'Exley', 51),\n('Mexico', 'Kain', 'Swaite', 46),\n('Indonesia', 'Alonso', 'Bulteel', 45),\n('Armenia', 'Anatol', 'Tankus', 51),\n('Indonesia', 'Coralyn', 'Dawkins', 48),\n('China', 'Deanne', 'Edwinson', 45),\n('China', 'Georgiana', 'Epple', 51),\n('Portugal', 'Bartlet', 'Breese', 56),\n('Azerbaijan', 'Idalina', 'Lukash', 50),\n('France', 'Livvie', 'Flory', 54),\n('Malaysia', 'Nonie', 'Borit', 48),\n('Indonesia', 'Clio', 'Mugg', 47),\n('Brazil', 'Westley', 'Measor', 48),\n('Philippines', 'Katrinka', 'Sibbert', 51),\n('Poland', 'Valentia', 'Mounch', 50),\n('Norway', 'Sheilah', 'Hedditch', 53),\n('Papua New Guinea', 'Itch', 'Jubb', 50),\n('Latvia', 'Stesha', 'Garnson', 53),\n('Canada', 'Cristionna', 'Wadmore', 46),\n('China', 'Lianna', 'Gatward', 43),\n('Guatemala', 'Tanney', 'Vials', 48),\n('France', 'Alma', 'Zavittieri', 44),\n('China', 'Alvira', 'Tamas', 50),\n('United States', 'Shanon', 'Peres', 45),\n('Sweden', 'Maisey', 'Lynas', 53),\n('Indonesia', 'Kip', 'Hothersall', 46),\n('China', 'Cash', 'Landis', 48),\n('Panama', 'Kennith', 'Digance', 45),\n('China', 'Ulberto', 'Riggeard', 48),\n('Switzerland', 'Judy', 'Gilligan', 49),\n('Philippines', 'Tod', 'Trevaskus', 52),\n('Brazil', 'Herold', 'Heggs', 44),\n('Latvia', 'Verney', 'Note', 50),\n('Poland', 'Temp', 'Ribey', 50),\n('China', 'Conroy', 'Egdal', 48),\n('Japan', 'Gabie', 'Alessandone', 47),\n('Ukraine', 'Devlen', 'Chaperlin', 54),\n('France', 'Babbette', 'Turner', 51),\n('Czech Republic', 'Virgil', 'Scotney', 52),\n('Tajikistan', 'Zorina', 'Bedow', 49),\n('China', 'Aidan', 'Rudeyeard', 50),\n('Ireland', 'Saunder', 'MacLice', 48),\n('France', 'Waly', 'Brunstan', 53),\n('China', 'Gisele', 'Enns', 52),\n('Peru', 'Mina', 'Winchester', 48),\n('Japan', 'Torie', 'MacShirrie', 50),\n('Russia', 'Benjamen', 'Kenford', 51),\n('China', 'Etan', 'Burn', 53),\n('Russia', 'Merralee', 'Chaperlin', 38),\n('Indonesia', 'Lanny', 'Malam', 49),\n('Canada', 'Wilhelm', 'Deeprose', 54),\n('Czech Republic', 'Lari', 'Hillhouse', 48),\n('China', 'Ossie', 'Woodley', 52),\n('Macedonia', 'April', 'Tyer', 50),\n('Vietnam', 'Madelon', 'Dansey', 53),\n('Ukraine', 'Korella', 'McNamee', 52),\n('Jamaica', 'Linnea', 'Cannam', 43),\n('China', 'Mart', 'Coling', 52),\n('Indonesia', 'Marna', 'Causbey', 47),\n('China', 'Berni', 'Daintier', 55),\n('Poland', 'Cynthia', 'Hassell', 49),\n('Canada', 'Carma', 'Schule', 49),\n('Indonesia', 'Malia', 'Blight', 48),\n('China', 'Paulo', 'Seivertsen', 47),\n('Niger', 'Kaylee', 'Hearley', 54),\n('Japan', 'Maure', 'Jandak', 46),\n('Argentina', 'Foss', 'Feavers', 45),\n('Venezuela', 'Ron', 'Leggitt', 60),\n('Russia', 'Flint', 'Gokes', 40),\n('China', 'Linet', 'Conelly', 52),\n('Philippines', 'Nikolas', 'Birtwell', 57),\n('Australia', 'Eduard', 'Leipelt', 53)\n;"
        },
        {
            "cell_type": "markdown",
            "metadata": {},
            "source": "### Querying the database"
        },
        {
            "cell_type": "code",
            "execution_count": 41,
            "metadata": {
                "scrolled": true
            },
            "outputs": [
                {
                    "name": "stdout",
                    "output_type": "stream",
                    "text": " * ibm_db_sa://gwn73718:***@dashdb-txn-sbox-yp-dal09-10.services.dal.bluemix.net:50000/BLUDB\nDone.\n"
                },
                {
                    "data": {
                        "text/html": "<table>\n    <tr>\n        <th>country</th>\n        <th>first_name</th>\n        <th>last_name</th>\n        <th>test_score</th>\n    </tr>\n    <tr>\n        <td>Canada</td>\n        <td>Cristionna</td>\n        <td>Wadmore</td>\n        <td>46</td>\n    </tr>\n    <tr>\n        <td>Canada</td>\n        <td>Wilhelm</td>\n        <td>Deeprose</td>\n        <td>54</td>\n    </tr>\n    <tr>\n        <td>Canada</td>\n        <td>Carma</td>\n        <td>Schule</td>\n        <td>49</td>\n    </tr>\n</table>",
                        "text/plain": "[('Canada', 'Cristionna', 'Wadmore', 46),\n ('Canada', 'Wilhelm', 'Deeprose', 54),\n ('Canada', 'Carma', 'Schule', 49)]"
                    },
                    "execution_count": 41,
                    "metadata": {},
                    "output_type": "execute_result"
                }
            ],
            "source": "country = \"Canada\"\n%sql select * from INTERNATIONAL_STUDENT_TEST_SCORES where country = :country"
        },
        {
            "cell_type": "code",
            "execution_count": 54,
            "metadata": {},
            "outputs": [
                {
                    "name": "stdout",
                    "output_type": "stream",
                    "text": " * ibm_db_sa://gwn73718:***@dashdb-txn-sbox-yp-dal09-10.services.dal.bluemix.net:50000/BLUDB\nDone.\n"
                },
                {
                    "data": {
                        "text/html": "<table>\n    <tr>\n        <th>country</th>\n        <th>first_name</th>\n        <th>last_name</th>\n        <th>test_score</th>\n    </tr>\n    <tr>\n        <td>Nigeria</td>\n        <td>Abdul</td>\n        <td>Hussein</td>\n        <td>74</td>\n    </tr>\n    <tr>\n        <td>Ghana</td>\n        <td>Celinda</td>\n        <td>Malkin</td>\n        <td>51</td>\n    </tr>\n    <tr>\n        <td>Ukraine</td>\n        <td>Guillermo</td>\n        <td>Furze</td>\n        <td>53</td>\n    </tr>\n    <tr>\n        <td>Greece</td>\n        <td>Aharon</td>\n        <td>Tunnow</td>\n        <td>48</td>\n    </tr>\n    <tr>\n        <td>Russia</td>\n        <td>Bail</td>\n        <td>Goodwin</td>\n        <td>46</td>\n    </tr>\n    <tr>\n        <td>Poland</td>\n        <td>Cole</td>\n        <td>Winteringham</td>\n        <td>49</td>\n    </tr>\n    <tr>\n        <td>Sweden</td>\n        <td>Emlyn</td>\n        <td>Erricker</td>\n        <td>55</td>\n    </tr>\n    <tr>\n        <td>Russia</td>\n        <td>Cathee</td>\n        <td>Sivewright</td>\n        <td>49</td>\n    </tr>\n    <tr>\n        <td>China</td>\n        <td>Barny</td>\n        <td>Ingerson</td>\n        <td>57</td>\n    </tr>\n    <tr>\n        <td>Uganda</td>\n        <td>Sharla</td>\n        <td>Papaccio</td>\n        <td>55</td>\n    </tr>\n    <tr>\n        <td>China</td>\n        <td>Stella</td>\n        <td>Youens</td>\n        <td>51</td>\n    </tr>\n    <tr>\n        <td>Poland</td>\n        <td>Julio</td>\n        <td>Buesden</td>\n        <td>48</td>\n    </tr>\n    <tr>\n        <td>United States</td>\n        <td>Tiffie</td>\n        <td>Cosely</td>\n        <td>58</td>\n    </tr>\n    <tr>\n        <td>Poland</td>\n        <td>Auroora</td>\n        <td>Stiffell</td>\n        <td>45</td>\n    </tr>\n    <tr>\n        <td>China</td>\n        <td>Clarita</td>\n        <td>Huet</td>\n        <td>52</td>\n    </tr>\n</table>",
                        "text/plain": "[('Nigeria', 'Abdul', 'Hussein', 74),\n ('Ghana', 'Celinda', 'Malkin', 51),\n ('Ukraine', 'Guillermo', 'Furze', 53),\n ('Greece', 'Aharon', 'Tunnow', 48),\n ('Russia', 'Bail', 'Goodwin', 46),\n ('Poland', 'Cole', 'Winteringham', 49),\n ('Sweden', 'Emlyn', 'Erricker', 55),\n ('Russia', 'Cathee', 'Sivewright', 49),\n ('China', 'Barny', 'Ingerson', 57),\n ('Uganda', 'Sharla', 'Papaccio', 55),\n ('China', 'Stella', 'Youens', 51),\n ('Poland', 'Julio', 'Buesden', 48),\n ('United States', 'Tiffie', 'Cosely', 58),\n ('Poland', 'Auroora', 'Stiffell', 45),\n ('China', 'Clarita', 'Huet', 52)]"
                    },
                    "execution_count": 54,
                    "metadata": {},
                    "output_type": "execute_result"
                }
            ],
            "source": "%%sql\n\nselect * from INTERNATIONAL_STUDENT_TEST_SCORES LIMIT 15;"
        },
        {
            "cell_type": "code",
            "execution_count": 51,
            "metadata": {},
            "outputs": [
                {
                    "name": "stdout",
                    "output_type": "stream",
                    "text": " * ibm_db_sa://gwn73718:***@dashdb-txn-sbox-yp-dal09-10.services.dal.bluemix.net:50000/BLUDB\nDone.\n"
                },
                {
                    "data": {
                        "text/html": "<table>\n    <tr>\n        <th>first_name</th>\n        <th>last_name</th>\n        <th>test_score</th>\n    </tr>\n    <tr>\n        <td>Abdul</td>\n        <td>Hussein</td>\n        <td>74</td>\n    </tr>\n    <tr>\n        <td>Ron</td>\n        <td>Leggitt</td>\n        <td>60</td>\n    </tr>\n</table>",
                        "text/plain": "[('Abdul', 'Hussein', 74), ('Ron', 'Leggitt', 60)]"
                    },
                    "execution_count": 51,
                    "metadata": {},
                    "output_type": "execute_result"
                }
            ],
            "source": "%%sql\n\nSELECT first_name, last_name, test_score from INTERNATIONAL_STUDENT_TEST_SCORES WHERE test_score BETWEEN 60 AND 80;"
        },
        {
            "cell_type": "code",
            "execution_count": 57,
            "metadata": {},
            "outputs": [
                {
                    "name": "stdout",
                    "output_type": "stream",
                    "text": " * ibm_db_sa://gwn73718:***@dashdb-txn-sbox-yp-dal09-10.services.dal.bluemix.net:50000/BLUDB\nDone.\n"
                },
                {
                    "data": {
                        "text/html": "<table>\n    <tr>\n        <th>country</th>\n        <th>Count</th>\n    </tr>\n    <tr>\n        <td>Argentina</td>\n        <td>1</td>\n    </tr>\n    <tr>\n        <td>Armenia</td>\n        <td>1</td>\n    </tr>\n    <tr>\n        <td>Australia</td>\n        <td>1</td>\n    </tr>\n    <tr>\n        <td>Azerbaijan</td>\n        <td>1</td>\n    </tr>\n    <tr>\n        <td>Brazil</td>\n        <td>2</td>\n    </tr>\n    <tr>\n        <td>Canada</td>\n        <td>3</td>\n    </tr>\n    <tr>\n        <td>China</td>\n        <td>23</td>\n    </tr>\n    <tr>\n        <td>Czech Republic</td>\n        <td>2</td>\n    </tr>\n    <tr>\n        <td>France</td>\n        <td>5</td>\n    </tr>\n    <tr>\n        <td>Ghana</td>\n        <td>1</td>\n    </tr>\n    <tr>\n        <td>Greece</td>\n        <td>1</td>\n    </tr>\n    <tr>\n        <td>Guatemala</td>\n        <td>1</td>\n    </tr>\n    <tr>\n        <td>Indonesia</td>\n        <td>8</td>\n    </tr>\n    <tr>\n        <td>Ireland</td>\n        <td>2</td>\n    </tr>\n    <tr>\n        <td>Jamaica</td>\n        <td>1</td>\n    </tr>\n    <tr>\n        <td>Japan</td>\n        <td>3</td>\n    </tr>\n    <tr>\n        <td>Latvia</td>\n        <td>2</td>\n    </tr>\n    <tr>\n        <td>Macedonia</td>\n        <td>1</td>\n    </tr>\n    <tr>\n        <td>Malaysia</td>\n        <td>1</td>\n    </tr>\n    <tr>\n        <td>Mexico</td>\n        <td>1</td>\n    </tr>\n    <tr>\n        <td>Moldova</td>\n        <td>1</td>\n    </tr>\n    <tr>\n        <td>Niger</td>\n        <td>1</td>\n    </tr>\n    <tr>\n        <td>Nigeria</td>\n        <td>1</td>\n    </tr>\n    <tr>\n        <td>Norway</td>\n        <td>1</td>\n    </tr>\n    <tr>\n        <td>Panama</td>\n        <td>1</td>\n    </tr>\n    <tr>\n        <td>Papua New Guinea</td>\n        <td>1</td>\n    </tr>\n    <tr>\n        <td>Peru</td>\n        <td>1</td>\n    </tr>\n    <tr>\n        <td>Philippines</td>\n        <td>5</td>\n    </tr>\n    <tr>\n        <td>Poland</td>\n        <td>7</td>\n    </tr>\n    <tr>\n        <td>Portugal</td>\n        <td>1</td>\n    </tr>\n    <tr>\n        <td>Russia</td>\n        <td>6</td>\n    </tr>\n    <tr>\n        <td>Sweden</td>\n        <td>2</td>\n    </tr>\n    <tr>\n        <td>Switzerland</td>\n        <td>1</td>\n    </tr>\n    <tr>\n        <td>Tajikistan</td>\n        <td>1</td>\n    </tr>\n    <tr>\n        <td>Uganda</td>\n        <td>1</td>\n    </tr>\n    <tr>\n        <td>Ukraine</td>\n        <td>3</td>\n    </tr>\n    <tr>\n        <td>United States</td>\n        <td>2</td>\n    </tr>\n    <tr>\n        <td>Venezuela</td>\n        <td>1</td>\n    </tr>\n    <tr>\n        <td>Vietnam</td>\n        <td>1</td>\n    </tr>\n</table>",
                        "text/plain": "[('Argentina', Decimal('1')),\n ('Armenia', Decimal('1')),\n ('Australia', Decimal('1')),\n ('Azerbaijan', Decimal('1')),\n ('Brazil', Decimal('2')),\n ('Canada', Decimal('3')),\n ('China', Decimal('23')),\n ('Czech Republic', Decimal('2')),\n ('France', Decimal('5')),\n ('Ghana', Decimal('1')),\n ('Greece', Decimal('1')),\n ('Guatemala', Decimal('1')),\n ('Indonesia', Decimal('8')),\n ('Ireland', Decimal('2')),\n ('Jamaica', Decimal('1')),\n ('Japan', Decimal('3')),\n ('Latvia', Decimal('2')),\n ('Macedonia', Decimal('1')),\n ('Malaysia', Decimal('1')),\n ('Mexico', Decimal('1')),\n ('Moldova', Decimal('1')),\n ('Niger', Decimal('1')),\n ('Nigeria', Decimal('1')),\n ('Norway', Decimal('1')),\n ('Panama', Decimal('1')),\n ('Papua New Guinea', Decimal('1')),\n ('Peru', Decimal('1')),\n ('Philippines', Decimal('5')),\n ('Poland', Decimal('7')),\n ('Portugal', Decimal('1')),\n ('Russia', Decimal('6')),\n ('Sweden', Decimal('2')),\n ('Switzerland', Decimal('1')),\n ('Tajikistan', Decimal('1')),\n ('Uganda', Decimal('1')),\n ('Ukraine', Decimal('3')),\n ('United States', Decimal('2')),\n ('Venezuela', Decimal('1')),\n ('Vietnam', Decimal('1'))]"
                    },
                    "execution_count": 57,
                    "metadata": {},
                    "output_type": "execute_result"
                }
            ],
            "source": "%%sql\n\nSELECT country, COUNT(*) AS \"Count\"\nFROM INTERNATIONAL_STUDENT_TEST_SCORES\nGROUP BY country;"
        },
        {
            "cell_type": "code",
            "execution_count": 61,
            "metadata": {
                "scrolled": true
            },
            "outputs": [
                {
                    "name": "stdout",
                    "output_type": "stream",
                    "text": " * ibm_db_sa://gwn73718:***@dashdb-txn-sbox-yp-dal09-10.services.dal.bluemix.net:50000/BLUDB\nDone.\n"
                },
                {
                    "data": {
                        "text/html": "<table>\n    <tr>\n        <th>AVG SCORE</th>\n    </tr>\n    <tr>\n        <td>49.939393</td>\n    </tr>\n</table>",
                        "text/plain": "[(Decimal('49.939393'),)]"
                    },
                    "execution_count": 61,
                    "metadata": {},
                    "output_type": "execute_result"
                }
            ],
            "source": "%%sql\n\nSELECT AVG(test_score) AS \"AVG SCORE\" from INTERNATIONAL_STUDENT_TEST_SCORES;"
        },
        {
            "cell_type": "code",
            "execution_count": 70,
            "metadata": {
                "scrolled": true
            },
            "outputs": [
                {
                    "name": "stdout",
                    "output_type": "stream",
                    "text": " * ibm_db_sa://gwn73718:***@dashdb-txn-sbox-yp-dal09-10.services.dal.bluemix.net:50000/BLUDB\nDone.\n"
                },
                {
                    "data": {
                        "text/html": "<table>\n    <tr>\n        <th>Highest Score</th>\n    </tr>\n    <tr>\n        <td>74</td>\n    </tr>\n</table>",
                        "text/plain": "[(74,)]"
                    },
                    "execution_count": 70,
                    "metadata": {},
                    "output_type": "execute_result"
                }
            ],
            "source": "%%sql\n\nSELECT MAX(test_score) as \"Highest Score\" from INTERNATIONAL_STUDENT_TEST_SCORES;"
        },
        {
            "cell_type": "code",
            "execution_count": 71,
            "metadata": {},
            "outputs": [
                {
                    "name": "stdout",
                    "output_type": "stream",
                    "text": " * ibm_db_sa://gwn73718:***@dashdb-txn-sbox-yp-dal09-10.services.dal.bluemix.net:50000/BLUDB\nDone.\n"
                },
                {
                    "data": {
                        "text/html": "<table>\n    <tr>\n        <th>Lowest Score</th>\n    </tr>\n    <tr>\n        <td>38</td>\n    </tr>\n</table>",
                        "text/plain": "[(38,)]"
                    },
                    "execution_count": 71,
                    "metadata": {},
                    "output_type": "execute_result"
                }
            ],
            "source": "%%sql\n\nSELECT MIN(test_score) as \"Lowest Score\" from INTERNATIONAL_STUDENT_TEST_SCORES;"
        }
    ],
    "metadata": {
        "kernelspec": {
            "display_name": "Python 3.7",
            "language": "python",
            "name": "python3"
        },
        "language_info": {
            "codemirror_mode": {
                "name": "ipython",
                "version": 3
            },
            "file_extension": ".py",
            "mimetype": "text/x-python",
            "name": "python",
            "nbconvert_exporter": "python",
            "pygments_lexer": "ipython3",
            "version": "3.7.10"
        }
    },
    "nbformat": 4,
    "nbformat_minor": 1
}