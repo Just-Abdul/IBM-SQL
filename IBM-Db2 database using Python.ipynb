{
    "cells": [
        {
            "cell_type": "code",
            "execution_count": 1,
            "metadata": {},
            "outputs": [],
            "source": "import ibm_db"
        },
        {
            "cell_type": "code",
            "execution_count": 2,
            "metadata": {},
            "outputs": [],
            "source": "# Fillout your service credentials such as Db2 hostname, username, password, port, protocol etc:\n\ndsn_hostname = \"##################################\" \ndsn_uid = \"#############\"        \ndsn_pwd = \"#######-#######\"      \n\ndsn_driver = \"{IBM DB2 ODBC DRIVER}\"\ndsn_database = \"BLUDB\"            \ndsn_port = \"50000\"                 \ndsn_protocol = \"TCPIP\"            "
        },
        {
            "cell_type": "code",
            "execution_count": 5,
            "metadata": {},
            "outputs": [],
            "source": "# Create the dsn connection string\ndsn = (\n    \"DRIVER={0};\"\n    \"DATABASE={1};\"\n    \"HOSTNAME={2};\"\n    \"PORT={3};\"\n    \"PROTOCOL={4};\"\n    \"UID={5};\"\n    \"PWD={6};\").format(dsn_driver, dsn_database, dsn_hostname, dsn_port, dsn_protocol, dsn_uid, dsn_pwd)"
        },
        {
            "cell_type": "code",
            "execution_count": 11,
            "metadata": {},
            "outputs": [
                {
                    "name": "stdout",
                    "output_type": "stream",
                    "text": "Connected to database! \n"
                }
            ],
            "source": "#Create database connection\n\ntry:\n    conn = ibm_db.connect(dsn, \"\", \"\")\n    print (\"Connected to database: \", dsn_database, \"as user: \", dsn_uid, \"on host: \", dsn_hostname)\n\nexcept:\n    print (\"Unable to connect: \", ibm_db.conn_errormsg() )"
        },
        {
            "cell_type": "code",
            "execution_count": null,
            "metadata": {},
            "outputs": [],
            "source": "#Retrieve Metadata for the Database Server\nserver = ibm_db.server_info(conn)\n\nprint (\"DBMS_NAME: \", server.DBMS_NAME)\nprint (\"DBMS_VER:  \", server.DBMS_VER)\nprint (\"DB_NAME:   \", server.DB_NAME)"
        },
        {
            "cell_type": "code",
            "execution_count": null,
            "metadata": {},
            "outputs": [],
            "source": "#Retrieve Metadata for the Database Client / Driver\nclient = ibm_db.client_info(conn)\n\nprint (\"DRIVER_NAME:          \", client.DRIVER_NAME) \nprint (\"DRIVER_VER:           \", client.DRIVER_VER)\nprint (\"DATA_SOURCE_NAME:     \", client.DATA_SOURCE_NAME)\nprint (\"DRIVER_ODBC_VER:      \", client.DRIVER_ODBC_VER)\nprint (\"ODBC_VER:             \", client.ODBC_VER)\nprint (\"ODBC_SQL_CONFORMANCE: \", client.ODBC_SQL_CONFORMANCE)\nprint (\"APPL_CODEPAGE:        \", client.APPL_CODEPAGE)\nprint (\"CONN_CODEPAGE:        \", client.CONN_CODEPAGE)"
        },
        {
            "cell_type": "code",
            "execution_count": 9,
            "metadata": {},
            "outputs": [
                {
                    "data": {
                        "text/plain": "True"
                    },
                    "execution_count": 9,
                    "metadata": {},
                    "output_type": "execute_result"
                }
            ],
            "source": "ibm_db.close(conn)"
        },
        {
            "cell_type": "markdown",
            "metadata": {},
            "source": "Since in connecting to IBM-DB2 sensitive information (service credential) will be required, it's safe to hide the cell's code."
        },
        {
            "cell_type": "code",
            "execution_count": null,
            "metadata": {},
            "outputs": [],
            "source": "# To show/hide cell, the following code is run (taken from https://gist.github.com/Zsailer/5d1f4e357c78409dd9a5a4e5c61be552)\n\nfrom IPython.display import HTML\nfrom IPython.display import display\n\n\ntag = HTML('''<script>\n\ncode_show=True; \n\nfunction code_toggle() {\n    \n    if (code_show){\n        $('div.cell.code_cell.rendered.selected div.input').hide();\n    } else {\n        $('div.cell.code_cell.rendered.selected div.input').show();\n    }\n    code_show = !code_show\n}\n\n$( document ).ready(code_toggle);\n\n</script>\n\nTo show/hide this cell's raw code input, click <a href=\"javascript:code_toggle()\">here</a>.''')\n\ndisplay(tag)\n\n############### Write code below ##################\n"
        },
        {
            "cell_type": "code",
            "execution_count": 13,
            "metadata": {},
            "outputs": [
                {
                    "data": {
                        "text/html": "<script>\n\ncode_show=True; \n\nfunction code_toggle() {\n    \n    if (code_show){\n        $('div.cell.code_cell.rendered.selected div.input').hide();\n    } else {\n        $('div.cell.code_cell.rendered.selected div.input').show();\n    }\n    code_show = !code_show\n}\n\n$( document ).ready(code_toggle);\n\n</script>\n\nTo show/hide this cell's raw code input, click <a href=\"javascript:code_toggle()\">here</a>.",
                        "text/plain": "<IPython.core.display.HTML object>"
                    },
                    "metadata": {},
                    "output_type": "display_data"
                },
                {
                    "name": "stdout",
                    "output_type": "stream",
                    "text": "Cell Code is hidden\n"
                }
            ],
            "source": "from IPython.display import HTML\nfrom IPython.display import display\n\n# Taken from https://stackoverflow.com/questions/31517194/how-to-hide-one-specific-cell-input-or-output-in-ipython-notebook\n\ntag = HTML('''<script>\n\ncode_show=True; \n\nfunction code_toggle() {\n    \n    if (code_show){\n        $('div.cell.code_cell.rendered.selected div.input').hide();\n    } else {\n        $('div.cell.code_cell.rendered.selected div.input').show();\n    }\n    code_show = !code_show\n}\n\n$( document ).ready(code_toggle);\n\n</script>\n\nTo show/hide this cell's raw code input, click <a href=\"javascript:code_toggle()\">here</a>.''')\n\ndisplay(tag)\n\n############### Write code below ##################\n\nprint(\"Cell Code is hidden\")"
        }
    ],
    "metadata": {
        "kernelspec": {
            "display_name": "Python 3.7",
            "language": "python",
            "name": "python3"
        },
        "language_info": {
            "codemirror_mode": {
                "name": "ipython",
                "version": 3
            },
            "file_extension": ".py",
            "mimetype": "text/x-python",
            "name": "python",
            "nbconvert_exporter": "python",
            "pygments_lexer": "ipython3",
            "version": "3.7.10"
        }
    },
    "nbformat": 4,
    "nbformat_minor": 1
}